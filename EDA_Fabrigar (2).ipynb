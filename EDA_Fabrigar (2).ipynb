{
 "cells": [
  {
   "cell_type": "markdown",
   "id": "1389ed12-1f38-432e-bc29-ac4c8d78a3ef",
   "metadata": {},
   "source": [
    "# Exploratory Data Analysis on the Most Streamed Spotify Songs of 2023 by Fabrigar, Hendrix Axel T."
   ]
  },
  {
   "cell_type": "markdown",
   "id": "5245832b-bafb-44d8-8986-4b231dcd02df",
   "metadata": {},
   "source": [
    "##### This notebook shows the exploring, cleaning, and visualizing the data on the most streamed spotify songs of 2023"
   ]
  },
  {
   "cell_type": "markdown",
   "id": "9c8459f9-8d5b-4d88-915a-dc33fecd96d0",
   "metadata": {},
   "source": [
    "### Preparation for exploratory data analysis \n"
   ]
  },
  {
   "cell_type": "markdown",
   "id": "67e3f0a8-595a-4284-8100-ec405a349684",
   "metadata": {},
   "source": [
    "##### Importing needed libraries"
   ]
  },
  {
   "cell_type": "code",
   "execution_count": 6,
   "id": "c9f0023f-b1ea-4a17-a83f-96516b05901f",
   "metadata": {},
   "outputs": [],
   "source": [
    "import numpy as np\n",
    "import pandas as pd\n",
    "import matplotlib.pyplot as plt\n",
    "import seaborn as sns\n",
    "import calendar"
   ]
  },
  {
   "cell_type": "markdown",
   "id": "0ca831a9-3ac4-4a1b-b24e-a46aa0675433",
   "metadata": {},
   "source": [
    "##### These are needed in order to execute and perform EDA on the given dataset"
   ]
  },
  {
   "cell_type": "markdown",
   "id": "3ef45636-8d40-4fd1-a912-945565157254",
   "metadata": {},
   "source": [
    "##### Pandas library will enable the reading and conversion of the dataset from the CSV file into a dataframe, it will enable commands that is neede to perform a EDA"
   ]
  },
  {
   "cell_type": "markdown",
   "id": "31bcd886-cd11-479b-aa20-687136d64987",
   "metadata": {},
   "source": [
    "##### Matplotlib.pyplot library will allow us to visualize data "
   ]
  },
  {
   "cell_type": "markdown",
   "id": "cd6e9687-eebf-4612-90a3-b2e1d287b08b",
   "metadata": {},
   "source": [
    "##### Seaborn library will allow the data to be visialized with color"
   ]
  },
  {
   "cell_type": "markdown",
   "id": "d11457ed-5d46-4257-8061-560acdea8141",
   "metadata": {},
   "source": [
    "___"
   ]
  },
  {
   "cell_type": "markdown",
   "id": "291efbac-66e4-4589-99ef-bb1d8fdfca84",
   "metadata": {},
   "source": [
    "### Loading the data as dataframe"
   ]
  },
  {
   "cell_type": "code",
   "execution_count": 13,
   "id": "887837aa-0ce1-4063-8073-3008591c68a7",
   "metadata": {},
   "outputs": [
    {
     "data": {
      "text/html": [
       "<div>\n",
       "<style scoped>\n",
       "    .dataframe tbody tr th:only-of-type {\n",
       "        vertical-align: middle;\n",
       "    }\n",
       "\n",
       "    .dataframe tbody tr th {\n",
       "        vertical-align: top;\n",
       "    }\n",
       "\n",
       "    .dataframe thead th {\n",
       "        text-align: right;\n",
       "    }\n",
       "</style>\n",
       "<table border=\"1\" class=\"dataframe\">\n",
       "  <thead>\n",
       "    <tr style=\"text-align: right;\">\n",
       "      <th></th>\n",
       "      <th>track_name</th>\n",
       "      <th>artist(s)_name</th>\n",
       "      <th>artist_count</th>\n",
       "      <th>released_year</th>\n",
       "      <th>released_month</th>\n",
       "      <th>released_day</th>\n",
       "      <th>in_spotify_playlists</th>\n",
       "      <th>in_spotify_charts</th>\n",
       "      <th>streams</th>\n",
       "      <th>in_apple_playlists</th>\n",
       "      <th>...</th>\n",
       "      <th>bpm</th>\n",
       "      <th>key</th>\n",
       "      <th>mode</th>\n",
       "      <th>danceability_%</th>\n",
       "      <th>valence_%</th>\n",
       "      <th>energy_%</th>\n",
       "      <th>acousticness_%</th>\n",
       "      <th>instrumentalness_%</th>\n",
       "      <th>liveness_%</th>\n",
       "      <th>speechiness_%</th>\n",
       "    </tr>\n",
       "  </thead>\n",
       "  <tbody>\n",
       "    <tr>\n",
       "      <th>0</th>\n",
       "      <td>Seven (feat. Latto) (Explicit Ver.)</td>\n",
       "      <td>Latto, Jung Kook</td>\n",
       "      <td>2</td>\n",
       "      <td>2023</td>\n",
       "      <td>7</td>\n",
       "      <td>14</td>\n",
       "      <td>553</td>\n",
       "      <td>147</td>\n",
       "      <td>141381703</td>\n",
       "      <td>43</td>\n",
       "      <td>...</td>\n",
       "      <td>125</td>\n",
       "      <td>B</td>\n",
       "      <td>Major</td>\n",
       "      <td>80</td>\n",
       "      <td>89</td>\n",
       "      <td>83</td>\n",
       "      <td>31</td>\n",
       "      <td>0</td>\n",
       "      <td>8</td>\n",
       "      <td>4</td>\n",
       "    </tr>\n",
       "    <tr>\n",
       "      <th>1</th>\n",
       "      <td>LALA</td>\n",
       "      <td>Myke Towers</td>\n",
       "      <td>1</td>\n",
       "      <td>2023</td>\n",
       "      <td>3</td>\n",
       "      <td>23</td>\n",
       "      <td>1474</td>\n",
       "      <td>48</td>\n",
       "      <td>133716286</td>\n",
       "      <td>48</td>\n",
       "      <td>...</td>\n",
       "      <td>92</td>\n",
       "      <td>C#</td>\n",
       "      <td>Major</td>\n",
       "      <td>71</td>\n",
       "      <td>61</td>\n",
       "      <td>74</td>\n",
       "      <td>7</td>\n",
       "      <td>0</td>\n",
       "      <td>10</td>\n",
       "      <td>4</td>\n",
       "    </tr>\n",
       "    <tr>\n",
       "      <th>2</th>\n",
       "      <td>vampire</td>\n",
       "      <td>Olivia Rodrigo</td>\n",
       "      <td>1</td>\n",
       "      <td>2023</td>\n",
       "      <td>6</td>\n",
       "      <td>30</td>\n",
       "      <td>1397</td>\n",
       "      <td>113</td>\n",
       "      <td>140003974</td>\n",
       "      <td>94</td>\n",
       "      <td>...</td>\n",
       "      <td>138</td>\n",
       "      <td>F</td>\n",
       "      <td>Major</td>\n",
       "      <td>51</td>\n",
       "      <td>32</td>\n",
       "      <td>53</td>\n",
       "      <td>17</td>\n",
       "      <td>0</td>\n",
       "      <td>31</td>\n",
       "      <td>6</td>\n",
       "    </tr>\n",
       "    <tr>\n",
       "      <th>3</th>\n",
       "      <td>Cruel Summer</td>\n",
       "      <td>Taylor Swift</td>\n",
       "      <td>1</td>\n",
       "      <td>2019</td>\n",
       "      <td>8</td>\n",
       "      <td>23</td>\n",
       "      <td>7858</td>\n",
       "      <td>100</td>\n",
       "      <td>800840817</td>\n",
       "      <td>116</td>\n",
       "      <td>...</td>\n",
       "      <td>170</td>\n",
       "      <td>A</td>\n",
       "      <td>Major</td>\n",
       "      <td>55</td>\n",
       "      <td>58</td>\n",
       "      <td>72</td>\n",
       "      <td>11</td>\n",
       "      <td>0</td>\n",
       "      <td>11</td>\n",
       "      <td>15</td>\n",
       "    </tr>\n",
       "    <tr>\n",
       "      <th>4</th>\n",
       "      <td>WHERE SHE GOES</td>\n",
       "      <td>Bad Bunny</td>\n",
       "      <td>1</td>\n",
       "      <td>2023</td>\n",
       "      <td>5</td>\n",
       "      <td>18</td>\n",
       "      <td>3133</td>\n",
       "      <td>50</td>\n",
       "      <td>303236322</td>\n",
       "      <td>84</td>\n",
       "      <td>...</td>\n",
       "      <td>144</td>\n",
       "      <td>A</td>\n",
       "      <td>Minor</td>\n",
       "      <td>65</td>\n",
       "      <td>23</td>\n",
       "      <td>80</td>\n",
       "      <td>14</td>\n",
       "      <td>63</td>\n",
       "      <td>11</td>\n",
       "      <td>6</td>\n",
       "    </tr>\n",
       "    <tr>\n",
       "      <th>...</th>\n",
       "      <td>...</td>\n",
       "      <td>...</td>\n",
       "      <td>...</td>\n",
       "      <td>...</td>\n",
       "      <td>...</td>\n",
       "      <td>...</td>\n",
       "      <td>...</td>\n",
       "      <td>...</td>\n",
       "      <td>...</td>\n",
       "      <td>...</td>\n",
       "      <td>...</td>\n",
       "      <td>...</td>\n",
       "      <td>...</td>\n",
       "      <td>...</td>\n",
       "      <td>...</td>\n",
       "      <td>...</td>\n",
       "      <td>...</td>\n",
       "      <td>...</td>\n",
       "      <td>...</td>\n",
       "      <td>...</td>\n",
       "      <td>...</td>\n",
       "    </tr>\n",
       "    <tr>\n",
       "      <th>948</th>\n",
       "      <td>My Mind &amp; Me</td>\n",
       "      <td>Selena Gomez</td>\n",
       "      <td>1</td>\n",
       "      <td>2022</td>\n",
       "      <td>11</td>\n",
       "      <td>3</td>\n",
       "      <td>953</td>\n",
       "      <td>0</td>\n",
       "      <td>91473363</td>\n",
       "      <td>61</td>\n",
       "      <td>...</td>\n",
       "      <td>144</td>\n",
       "      <td>A</td>\n",
       "      <td>Major</td>\n",
       "      <td>60</td>\n",
       "      <td>24</td>\n",
       "      <td>39</td>\n",
       "      <td>57</td>\n",
       "      <td>0</td>\n",
       "      <td>8</td>\n",
       "      <td>3</td>\n",
       "    </tr>\n",
       "    <tr>\n",
       "      <th>949</th>\n",
       "      <td>Bigger Than The Whole Sky</td>\n",
       "      <td>Taylor Swift</td>\n",
       "      <td>1</td>\n",
       "      <td>2022</td>\n",
       "      <td>10</td>\n",
       "      <td>21</td>\n",
       "      <td>1180</td>\n",
       "      <td>0</td>\n",
       "      <td>121871870</td>\n",
       "      <td>4</td>\n",
       "      <td>...</td>\n",
       "      <td>166</td>\n",
       "      <td>F#</td>\n",
       "      <td>Major</td>\n",
       "      <td>42</td>\n",
       "      <td>7</td>\n",
       "      <td>24</td>\n",
       "      <td>83</td>\n",
       "      <td>1</td>\n",
       "      <td>12</td>\n",
       "      <td>6</td>\n",
       "    </tr>\n",
       "    <tr>\n",
       "      <th>950</th>\n",
       "      <td>A Veces (feat. Feid)</td>\n",
       "      <td>Feid, Paulo Londra</td>\n",
       "      <td>2</td>\n",
       "      <td>2022</td>\n",
       "      <td>11</td>\n",
       "      <td>3</td>\n",
       "      <td>573</td>\n",
       "      <td>0</td>\n",
       "      <td>73513683</td>\n",
       "      <td>2</td>\n",
       "      <td>...</td>\n",
       "      <td>92</td>\n",
       "      <td>C#</td>\n",
       "      <td>Major</td>\n",
       "      <td>80</td>\n",
       "      <td>81</td>\n",
       "      <td>67</td>\n",
       "      <td>4</td>\n",
       "      <td>0</td>\n",
       "      <td>8</td>\n",
       "      <td>6</td>\n",
       "    </tr>\n",
       "    <tr>\n",
       "      <th>951</th>\n",
       "      <td>En La De Ella</td>\n",
       "      <td>Feid, Sech, Jhayco</td>\n",
       "      <td>3</td>\n",
       "      <td>2022</td>\n",
       "      <td>10</td>\n",
       "      <td>20</td>\n",
       "      <td>1320</td>\n",
       "      <td>0</td>\n",
       "      <td>133895612</td>\n",
       "      <td>29</td>\n",
       "      <td>...</td>\n",
       "      <td>97</td>\n",
       "      <td>C#</td>\n",
       "      <td>Major</td>\n",
       "      <td>82</td>\n",
       "      <td>67</td>\n",
       "      <td>77</td>\n",
       "      <td>8</td>\n",
       "      <td>0</td>\n",
       "      <td>12</td>\n",
       "      <td>5</td>\n",
       "    </tr>\n",
       "    <tr>\n",
       "      <th>952</th>\n",
       "      <td>Alone</td>\n",
       "      <td>Burna Boy</td>\n",
       "      <td>1</td>\n",
       "      <td>2022</td>\n",
       "      <td>11</td>\n",
       "      <td>4</td>\n",
       "      <td>782</td>\n",
       "      <td>2</td>\n",
       "      <td>96007391</td>\n",
       "      <td>27</td>\n",
       "      <td>...</td>\n",
       "      <td>90</td>\n",
       "      <td>E</td>\n",
       "      <td>Minor</td>\n",
       "      <td>61</td>\n",
       "      <td>32</td>\n",
       "      <td>67</td>\n",
       "      <td>15</td>\n",
       "      <td>0</td>\n",
       "      <td>11</td>\n",
       "      <td>5</td>\n",
       "    </tr>\n",
       "  </tbody>\n",
       "</table>\n",
       "<p>953 rows × 24 columns</p>\n",
       "</div>"
      ],
      "text/plain": [
       "                              track_name      artist(s)_name  artist_count  \\\n",
       "0    Seven (feat. Latto) (Explicit Ver.)    Latto, Jung Kook             2   \n",
       "1                                   LALA         Myke Towers             1   \n",
       "2                                vampire      Olivia Rodrigo             1   \n",
       "3                           Cruel Summer        Taylor Swift             1   \n",
       "4                         WHERE SHE GOES           Bad Bunny             1   \n",
       "..                                   ...                 ...           ...   \n",
       "948                         My Mind & Me        Selena Gomez             1   \n",
       "949            Bigger Than The Whole Sky        Taylor Swift             1   \n",
       "950                 A Veces (feat. Feid)  Feid, Paulo Londra             2   \n",
       "951                        En La De Ella  Feid, Sech, Jhayco             3   \n",
       "952                                Alone           Burna Boy             1   \n",
       "\n",
       "     released_year  released_month  released_day  in_spotify_playlists  \\\n",
       "0             2023               7            14                   553   \n",
       "1             2023               3            23                  1474   \n",
       "2             2023               6            30                  1397   \n",
       "3             2019               8            23                  7858   \n",
       "4             2023               5            18                  3133   \n",
       "..             ...             ...           ...                   ...   \n",
       "948           2022              11             3                   953   \n",
       "949           2022              10            21                  1180   \n",
       "950           2022              11             3                   573   \n",
       "951           2022              10            20                  1320   \n",
       "952           2022              11             4                   782   \n",
       "\n",
       "     in_spotify_charts    streams  in_apple_playlists  ...  bpm key   mode  \\\n",
       "0                  147  141381703                  43  ...  125   B  Major   \n",
       "1                   48  133716286                  48  ...   92  C#  Major   \n",
       "2                  113  140003974                  94  ...  138   F  Major   \n",
       "3                  100  800840817                 116  ...  170   A  Major   \n",
       "4                   50  303236322                  84  ...  144   A  Minor   \n",
       "..                 ...        ...                 ...  ...  ...  ..    ...   \n",
       "948                  0   91473363                  61  ...  144   A  Major   \n",
       "949                  0  121871870                   4  ...  166  F#  Major   \n",
       "950                  0   73513683                   2  ...   92  C#  Major   \n",
       "951                  0  133895612                  29  ...   97  C#  Major   \n",
       "952                  2   96007391                  27  ...   90   E  Minor   \n",
       "\n",
       "    danceability_%  valence_% energy_% acousticness_%  instrumentalness_%  \\\n",
       "0               80         89       83             31                   0   \n",
       "1               71         61       74              7                   0   \n",
       "2               51         32       53             17                   0   \n",
       "3               55         58       72             11                   0   \n",
       "4               65         23       80             14                  63   \n",
       "..             ...        ...      ...            ...                 ...   \n",
       "948             60         24       39             57                   0   \n",
       "949             42          7       24             83                   1   \n",
       "950             80         81       67              4                   0   \n",
       "951             82         67       77              8                   0   \n",
       "952             61         32       67             15                   0   \n",
       "\n",
       "     liveness_%  speechiness_%  \n",
       "0             8              4  \n",
       "1            10              4  \n",
       "2            31              6  \n",
       "3            11             15  \n",
       "4            11              6  \n",
       "..          ...            ...  \n",
       "948           8              3  \n",
       "949          12              6  \n",
       "950           8              6  \n",
       "951          12              5  \n",
       "952          11              5  \n",
       "\n",
       "[953 rows x 24 columns]"
      ]
     },
     "execution_count": 13,
     "metadata": {},
     "output_type": "execute_result"
    }
   ],
   "source": [
    "#Load given dataset\n",
    "df_spotify = pd.read_csv('spotify-2023 (2).csv', encoding='ISO-8859-1')\n",
    "df_spotify"
   ]
  },
  {
   "cell_type": "markdown",
   "id": "1eac69f0-b56d-45a3-9925-486cbb4e869b",
   "metadata": {},
   "source": [
    "##### To load given data, pd.read_csv is to be used"
   ]
  },
  {
   "cell_type": "markdown",
   "id": "cb3d3221-5070-441c-91f5-5e4989a49e79",
   "metadata": {},
   "source": [
    "##### The \"encoding='ISO-8859-1'\" is used because the given data set would not load without it"
   ]
  },
  {
   "cell_type": "markdown",
   "id": "58e297c7-f329-4f72-8596-c5c953910feb",
   "metadata": {},
   "source": [
    "___"
   ]
  },
  {
   "cell_type": "markdown",
   "id": "b8d801aa-eedd-46e2-9065-cd104f0ea535",
   "metadata": {},
   "source": [
    "### Checking of the data"
   ]
  },
  {
   "cell_type": "markdown",
   "id": "302121da-a99a-4785-8335-13f97628fd08",
   "metadata": {},
   "source": [
    "##### Check information of the dataset to know answers to questions provided"
   ]
  },
  {
   "cell_type": "code",
   "execution_count": 19,
   "id": "fc346287-22cd-4bf0-b751-5c02110c1b0c",
   "metadata": {},
   "outputs": [
    {
     "name": "stdout",
     "output_type": "stream",
     "text": [
      "<class 'pandas.core.frame.DataFrame'>\n",
      "RangeIndex: 953 entries, 0 to 952\n",
      "Data columns (total 24 columns):\n",
      " #   Column                Non-Null Count  Dtype \n",
      "---  ------                --------------  ----- \n",
      " 0   track_name            953 non-null    object\n",
      " 1   artist(s)_name        953 non-null    object\n",
      " 2   artist_count          953 non-null    int64 \n",
      " 3   released_year         953 non-null    int64 \n",
      " 4   released_month        953 non-null    int64 \n",
      " 5   released_day          953 non-null    int64 \n",
      " 6   in_spotify_playlists  953 non-null    int64 \n",
      " 7   in_spotify_charts     953 non-null    int64 \n",
      " 8   streams               953 non-null    object\n",
      " 9   in_apple_playlists    953 non-null    int64 \n",
      " 10  in_apple_charts       953 non-null    int64 \n",
      " 11  in_deezer_playlists   953 non-null    object\n",
      " 12  in_deezer_charts      953 non-null    int64 \n",
      " 13  in_shazam_charts      903 non-null    object\n",
      " 14  bpm                   953 non-null    int64 \n",
      " 15  key                   858 non-null    object\n",
      " 16  mode                  953 non-null    object\n",
      " 17  danceability_%        953 non-null    int64 \n",
      " 18  valence_%             953 non-null    int64 \n",
      " 19  energy_%              953 non-null    int64 \n",
      " 20  acousticness_%        953 non-null    int64 \n",
      " 21  instrumentalness_%    953 non-null    int64 \n",
      " 22  liveness_%            953 non-null    int64 \n",
      " 23  speechiness_%         953 non-null    int64 \n",
      "dtypes: int64(17), object(7)\n",
      "memory usage: 178.8+ KB\n"
     ]
    }
   ],
   "source": [
    "# Display the number of rows and columns of dataset\n",
    "df_spotify.info()"
   ]
  },
  {
   "cell_type": "markdown",
   "id": "42610fe7-ae87-47f0-901c-7c8cffb63871",
   "metadata": {},
   "source": [
    "##### .info() was used to acquire the basic information of the given data"
   ]
  },
  {
   "cell_type": "markdown",
   "id": "23ab0683-e252-466a-8d20-2c1d33ce5695",
   "metadata": {},
   "source": [
    "##### According to the .info(), there are 953 rows and 24 columns"
   ]
  },
  {
   "cell_type": "markdown",
   "id": "c2dc428e-a5a2-4283-90fb-09b462ee23e3",
   "metadata": {},
   "source": [
    "##### The type of data in streams in_deezer_playlists, and in_shazam_charts are incorrectly detected as an object "
   ]
  },
  {
   "cell_type": "markdown",
   "id": "6a428011-ad3a-49ff-9aee-547ac16bb6bf",
   "metadata": {},
   "source": [
    "___"
   ]
  },
  {
   "cell_type": "markdown",
   "id": "e0740f55-56e0-451f-99ba-6a85d886693b",
   "metadata": {},
   "source": [
    "### Cleaning the data"
   ]
  },
  {
   "cell_type": "markdown",
   "id": "b1a13532-58d6-4884-af5b-8b33f2d5747b",
   "metadata": {},
   "source": [
    "##### Fixing the datatype for streams that were detected as objects\n"
   ]
  },
  {
   "cell_type": "markdown",
   "id": "f63054cf-d426-4d6e-b1dd-fc995449d2de",
   "metadata": {},
   "source": [
    "##### For the streams attribute"
   ]
  },
  {
   "cell_type": "code",
   "execution_count": 27,
   "id": "7ce71a62-8bd0-41c7-8df4-aa43df00cecb",
   "metadata": {},
   "outputs": [
    {
     "data": {
      "text/plain": [
       "'BPM110KeyAModeMajorDanceability53Valence75Energy69Acousticness7Instrumentalness0Liveness17Speechiness3'"
      ]
     },
     "execution_count": 27,
     "metadata": {},
     "output_type": "execute_result"
    }
   ],
   "source": [
    "#To locate streams that are objects\n",
    "df_spotify['streams'].iloc[574]"
   ]
  },
  {
   "cell_type": "code",
   "execution_count": 28,
   "id": "6c3e84ff-3aff-4ca6-afc3-5718c83ff654",
   "metadata": {},
   "outputs": [
    {
     "data": {
      "text/plain": [
       "0      141381703.0\n",
       "1      133716286.0\n",
       "2      140003974.0\n",
       "3      800840817.0\n",
       "4      303236322.0\n",
       "          ...     \n",
       "948     91473363.0\n",
       "949    121871870.0\n",
       "950     73513683.0\n",
       "951    133895612.0\n",
       "952     96007391.0\n",
       "Name: streams, Length: 953, dtype: float64"
      ]
     },
     "execution_count": 28,
     "metadata": {},
     "output_type": "execute_result"
    }
   ],
   "source": [
    "#Convert streams to numeric values\n",
    "df_spotify['streams'] = pd.to_numeric(df_spotify['streams'], errors = 'coerce')\n",
    "df_spotify['streams']"
   ]
  },
  {
   "cell_type": "code",
   "execution_count": 29,
   "id": "182ec8cf-fa27-49e5-9874-dcc759444a77",
   "metadata": {},
   "outputs": [
    {
     "data": {
      "text/plain": [
       "nan"
      ]
     },
     "execution_count": 29,
     "metadata": {},
     "output_type": "execute_result"
    }
   ],
   "source": [
    "# Locate row 574\n",
    "df_spotify['streams'].iloc[574]"
   ]
  },
  {
   "cell_type": "markdown",
   "id": "77cf49ec-cc8b-4f3e-ae52-adf77b41df6e",
   "metadata": {},
   "source": [
    "##### Used errors is used as 'coerce' because if it is not used, it would not be able to convert the 574th row into a numerical value"
   ]
  },
  {
   "cell_type": "markdown",
   "id": "508a1d2b-9ca4-4eb0-8ec1-a0b7ae512de1",
   "metadata": {},
   "source": [
    "##### Row 574th value is converted to nan and is now a missing value"
   ]
  },
  {
   "cell_type": "markdown",
   "id": "8a5cf772-f42e-490b-8890-ccc4223a25fc",
   "metadata": {},
   "source": [
    "##### The rows' song was 'Love Grows(Where My Rosemary Goes)' by Edison LightHouse and its value _____"
   ]
  },
  {
   "cell_type": "markdown",
   "id": "b401d5c7-2e64-4f85-8559-dc2bb0d982b5",
   "metadata": {},
   "source": [
    "##### Its value used to hold 'BPM110KeyAModeMajorDanceability53Valence75Energy69Acousticness7Instrumentalness0Liveness17Speechiness3'"
   ]
  },
  {
   "cell_type": "markdown",
   "id": "7207ce36-b496-41b9-b742-278ceeffd8e0",
   "metadata": {},
   "source": [
    "##### According to research, the original song has received approximately 276,093,748 cumulative streams and 168,328 daily streams as of 2024/10/16, a total of 290 days since 2023"
   ]
  },
  {
   "cell_type": "markdown",
   "id": "82e913d6-395d-45b5-b995-dfd72f54b16a",
   "metadata": {},
   "source": [
    "##### To account for the additional days, subtract 276,093,748 by 168,000 and multiply the result by 290, obtaining 227,373,748 streams."
   ]
  },
  {
   "cell_type": "markdown",
   "id": "c581ab5f-edae-4d36-92c7-684232e7315c",
   "metadata": {},
   "source": [
    "##### With the new value, we have to store it in that row"
   ]
  },
  {
   "cell_type": "code",
   "execution_count": 37,
   "id": "3fe776a8-e86b-43ff-a4de-117ef5dcf942",
   "metadata": {},
   "outputs": [
    {
     "data": {
      "text/plain": [
       "227373748.0"
      ]
     },
     "execution_count": 37,
     "metadata": {},
     "output_type": "execute_result"
    }
   ],
   "source": [
    "df_spotify.at[574, 'streams'] = 227373748\n",
    "df_spotify['streams'].iloc[574]\n",
    "# fills missing value"
   ]
  },
  {
   "cell_type": "markdown",
   "id": "1e9de5fd-52f6-4fb2-ab83-b801dfb60523",
   "metadata": {},
   "source": [
    "### For the in_deezer_playlist attribute"
   ]
  },
  {
   "cell_type": "code",
   "execution_count": 39,
   "id": "6f3c072e-e320-41c3-8e14-148754c849f7",
   "metadata": {},
   "outputs": [
    {
     "data": {
      "text/plain": [
       "0       45.0\n",
       "1       58.0\n",
       "2       91.0\n",
       "3      125.0\n",
       "4       87.0\n",
       "       ...  \n",
       "948     37.0\n",
       "949      8.0\n",
       "950      7.0\n",
       "951     17.0\n",
       "952     32.0\n",
       "Name: in_deezer_playlists, Length: 953, dtype: float64"
      ]
     },
     "execution_count": 39,
     "metadata": {},
     "output_type": "execute_result"
    }
   ],
   "source": [
    "#Float value\n",
    "df_spotify['in_deezer_playlists'] = df_spotify['in_deezer_playlists'].str.replace(\",\",\"\").astype(float)\n",
    "df_spotify['in_deezer_playlists']"
   ]
  },
  {
   "cell_type": "markdown",
   "id": "93dc4ace-55fb-4696-8a38-59fcef9a5f89",
   "metadata": {},
   "source": [
    "##### The number with the commas is detected as an object"
   ]
  },
  {
   "cell_type": "markdown",
   "id": "dfd39042-55de-4029-a6e9-525989d644af",
   "metadata": {},
   "source": [
    "###### By using .str.replace(\",\",\"\"), we can replace all the commas with a space making sure it can be all converted into a numerical value."
   ]
  },
  {
   "cell_type": "markdown",
   "id": "0c342430-bc8b-406b-a25b-f1027690aba5",
   "metadata": {},
   "source": [
    "##### astype(float) is used to convert the values with a decimal "
   ]
  },
  {
   "cell_type": "markdown",
   "id": "554dfd5b-ec00-4733-8179-6d2c92f268a6",
   "metadata": {},
   "source": [
    "### For the in_shazam_charts attribute"
   ]
  },
  {
   "cell_type": "code",
   "execution_count": 44,
   "id": "e7e1dc7b-bc94-4952-96a9-55a8b0130f1a",
   "metadata": {},
   "outputs": [
    {
     "data": {
      "text/plain": [
       "0      826.0\n",
       "1      382.0\n",
       "2      949.0\n",
       "3      548.0\n",
       "4      425.0\n",
       "       ...  \n",
       "948      0.0\n",
       "949      0.0\n",
       "950      0.0\n",
       "951      0.0\n",
       "952      0.0\n",
       "Name: in_shazam_charts, Length: 953, dtype: float64"
      ]
     },
     "execution_count": 44,
     "metadata": {},
     "output_type": "execute_result"
    }
   ],
   "source": [
    "#Float Value\n",
    "df_spotify['in_shazam_charts'] = df_spotify['in_shazam_charts'].str.replace(\",\",\"\").astype(float)\n",
    "df_spotify['in_shazam_charts']"
   ]
  },
  {
   "cell_type": "markdown",
   "id": "c55a8936-e0e0-4185-85df-c573d5147063",
   "metadata": {},
   "source": [
    "___"
   ]
  },
  {
   "cell_type": "markdown",
   "id": "86facb51-f12a-479e-9e0d-83826412b86c",
   "metadata": {},
   "source": [
    "### Handling duplicate tracks and values"
   ]
  },
  {
   "cell_type": "markdown",
   "id": "1dfaebf4-050d-4b51-823c-9a7b2f236d4f",
   "metadata": {},
   "source": [
    "##### .duplicate command is used to check for duplicates of rows "
   ]
  },
  {
   "cell_type": "markdown",
   "id": "1879089a-9cf3-4bd7-ae21-ca3857cad972",
   "metadata": {},
   "source": [
    "##### Since there are no duplicate of rows in the given data, the .duplicated command has an added condition as (['track_name','artist(s)_name'])]"
   ]
  },
  {
   "cell_type": "code",
   "execution_count": 49,
   "id": "24738356-edc5-4a44-8127-e4346a171225",
   "metadata": {},
   "outputs": [
    {
     "name": "stdout",
     "output_type": "stream",
     "text": [
      "The duplicate tracks that is in the dataset are \n",
      "\n",
      "           track_name artist(s)_name\n",
      "482  SPIT IN MY FACE!       ThxSoMch\n",
      "616    Take My Breath     The Weeknd\n",
      "764   About Damn Time          Lizzo\n",
      "873              SNAP      Rosa Linn\n"
     ]
    }
   ],
   "source": [
    "duplicate_tracks = pd.DataFrame(df_spotify[df_spotify.duplicated(['track_name','artist(s)_name'])])\n",
    "# checks duplicated tracks\n",
    "\n",
    "print(\"The duplicate tracks that is in the dataset are \")\n",
    "print()\n",
    "print(duplicate_tracks[['track_name','artist(s)_name']])\n",
    "#Output result"
   ]
  },
  {
   "cell_type": "markdown",
   "id": "6e5e239e-e610-4cb5-8e8c-29957a800f28",
   "metadata": {},
   "source": [
    "##### Re-releases and anomalies in the source data, including data entry mistakes or data collection techniques, are most likely the cause of the duplicated songs."
   ]
  },
  {
   "cell_type": "markdown",
   "id": "9dca3037-d1f6-4fe6-9efa-c1d12db8cd90",
   "metadata": {},
   "source": [
    "##### Since there are only four duplicate tracks, these should be removed, and only the first occurrence should remain.\n"
   ]
  },
  {
   "cell_type": "markdown",
   "id": "17497ac9-b33d-4ffd-b8d3-1e3cd0896efb",
   "metadata": {},
   "source": [
    "### For 'SPIT IN MY FACE\""
   ]
  },
  {
   "cell_type": "code",
   "execution_count": 53,
   "id": "290c87f3-1539-4497-839b-683109cba50c",
   "metadata": {},
   "outputs": [
    {
     "data": {
      "text/html": [
       "<div>\n",
       "<style scoped>\n",
       "    .dataframe tbody tr th:only-of-type {\n",
       "        vertical-align: middle;\n",
       "    }\n",
       "\n",
       "    .dataframe tbody tr th {\n",
       "        vertical-align: top;\n",
       "    }\n",
       "\n",
       "    .dataframe thead th {\n",
       "        text-align: right;\n",
       "    }\n",
       "</style>\n",
       "<table border=\"1\" class=\"dataframe\">\n",
       "  <thead>\n",
       "    <tr style=\"text-align: right;\">\n",
       "      <th></th>\n",
       "      <th>track_name</th>\n",
       "      <th>artist(s)_name</th>\n",
       "      <th>artist_count</th>\n",
       "      <th>released_year</th>\n",
       "      <th>released_month</th>\n",
       "      <th>released_day</th>\n",
       "      <th>in_spotify_playlists</th>\n",
       "      <th>in_spotify_charts</th>\n",
       "      <th>streams</th>\n",
       "      <th>in_apple_playlists</th>\n",
       "      <th>...</th>\n",
       "      <th>bpm</th>\n",
       "      <th>key</th>\n",
       "      <th>mode</th>\n",
       "      <th>danceability_%</th>\n",
       "      <th>valence_%</th>\n",
       "      <th>energy_%</th>\n",
       "      <th>acousticness_%</th>\n",
       "      <th>instrumentalness_%</th>\n",
       "      <th>liveness_%</th>\n",
       "      <th>speechiness_%</th>\n",
       "    </tr>\n",
       "  </thead>\n",
       "  <tbody>\n",
       "    <tr>\n",
       "      <th>345</th>\n",
       "      <td>SPIT IN MY FACE!</td>\n",
       "      <td>ThxSoMch</td>\n",
       "      <td>1</td>\n",
       "      <td>2022</td>\n",
       "      <td>10</td>\n",
       "      <td>31</td>\n",
       "      <td>629</td>\n",
       "      <td>14</td>\n",
       "      <td>303216294.0</td>\n",
       "      <td>32</td>\n",
       "      <td>...</td>\n",
       "      <td>94</td>\n",
       "      <td>G#</td>\n",
       "      <td>Major</td>\n",
       "      <td>73</td>\n",
       "      <td>65</td>\n",
       "      <td>79</td>\n",
       "      <td>5</td>\n",
       "      <td>2</td>\n",
       "      <td>11</td>\n",
       "      <td>6</td>\n",
       "    </tr>\n",
       "    <tr>\n",
       "      <th>482</th>\n",
       "      <td>SPIT IN MY FACE!</td>\n",
       "      <td>ThxSoMch</td>\n",
       "      <td>1</td>\n",
       "      <td>2022</td>\n",
       "      <td>10</td>\n",
       "      <td>31</td>\n",
       "      <td>573</td>\n",
       "      <td>0</td>\n",
       "      <td>301869854.0</td>\n",
       "      <td>1</td>\n",
       "      <td>...</td>\n",
       "      <td>166</td>\n",
       "      <td>C#</td>\n",
       "      <td>Major</td>\n",
       "      <td>70</td>\n",
       "      <td>57</td>\n",
       "      <td>57</td>\n",
       "      <td>9</td>\n",
       "      <td>20</td>\n",
       "      <td>11</td>\n",
       "      <td>7</td>\n",
       "    </tr>\n",
       "  </tbody>\n",
       "</table>\n",
       "<p>2 rows × 24 columns</p>\n",
       "</div>"
      ],
      "text/plain": [
       "           track_name artist(s)_name  artist_count  released_year  \\\n",
       "345  SPIT IN MY FACE!       ThxSoMch             1           2022   \n",
       "482  SPIT IN MY FACE!       ThxSoMch             1           2022   \n",
       "\n",
       "     released_month  released_day  in_spotify_playlists  in_spotify_charts  \\\n",
       "345              10            31                   629                 14   \n",
       "482              10            31                   573                  0   \n",
       "\n",
       "         streams  in_apple_playlists  ...  bpm  key   mode  danceability_%  \\\n",
       "345  303216294.0                  32  ...   94   G#  Major              73   \n",
       "482  301869854.0                   1  ...  166   C#  Major              70   \n",
       "\n",
       "     valence_% energy_% acousticness_%  instrumentalness_%  liveness_%  \\\n",
       "345         65       79              5                   2          11   \n",
       "482         57       57              9                  20          11   \n",
       "\n",
       "     speechiness_%  \n",
       "345              6  \n",
       "482              7  \n",
       "\n",
       "[2 rows x 24 columns]"
      ]
     },
     "execution_count": 53,
     "metadata": {},
     "output_type": "execute_result"
    }
   ],
   "source": [
    "# Locate track 'SPIT IN MY FACE'\n",
    "df_spotify.loc[(df_spotify['track_name']=='SPIT IN MY FACE!')]"
   ]
  },
  {
   "cell_type": "markdown",
   "id": "7d412855-afdd-4640-8bce-974bd5e6dac8",
   "metadata": {},
   "source": [
    "##### Remove the wrong key and bpm "
   ]
  },
  {
   "cell_type": "code",
   "execution_count": 55,
   "id": "41b910d5-8c4d-4cc9-b94e-9458d1510497",
   "metadata": {},
   "outputs": [
    {
     "data": {
      "text/html": [
       "<div>\n",
       "<style scoped>\n",
       "    .dataframe tbody tr th:only-of-type {\n",
       "        vertical-align: middle;\n",
       "    }\n",
       "\n",
       "    .dataframe tbody tr th {\n",
       "        vertical-align: top;\n",
       "    }\n",
       "\n",
       "    .dataframe thead th {\n",
       "        text-align: right;\n",
       "    }\n",
       "</style>\n",
       "<table border=\"1\" class=\"dataframe\">\n",
       "  <thead>\n",
       "    <tr style=\"text-align: right;\">\n",
       "      <th></th>\n",
       "      <th>track_name</th>\n",
       "      <th>artist(s)_name</th>\n",
       "      <th>artist_count</th>\n",
       "      <th>released_year</th>\n",
       "      <th>released_month</th>\n",
       "      <th>released_day</th>\n",
       "      <th>in_spotify_playlists</th>\n",
       "      <th>in_spotify_charts</th>\n",
       "      <th>streams</th>\n",
       "      <th>in_apple_playlists</th>\n",
       "      <th>...</th>\n",
       "      <th>bpm</th>\n",
       "      <th>key</th>\n",
       "      <th>mode</th>\n",
       "      <th>danceability_%</th>\n",
       "      <th>valence_%</th>\n",
       "      <th>energy_%</th>\n",
       "      <th>acousticness_%</th>\n",
       "      <th>instrumentalness_%</th>\n",
       "      <th>liveness_%</th>\n",
       "      <th>speechiness_%</th>\n",
       "    </tr>\n",
       "  </thead>\n",
       "  <tbody>\n",
       "    <tr>\n",
       "      <th>482</th>\n",
       "      <td>SPIT IN MY FACE!</td>\n",
       "      <td>ThxSoMch</td>\n",
       "      <td>1</td>\n",
       "      <td>2022</td>\n",
       "      <td>10</td>\n",
       "      <td>31</td>\n",
       "      <td>573</td>\n",
       "      <td>0</td>\n",
       "      <td>301869854.0</td>\n",
       "      <td>1</td>\n",
       "      <td>...</td>\n",
       "      <td>166</td>\n",
       "      <td>C#</td>\n",
       "      <td>Major</td>\n",
       "      <td>70</td>\n",
       "      <td>57</td>\n",
       "      <td>57</td>\n",
       "      <td>9</td>\n",
       "      <td>20</td>\n",
       "      <td>11</td>\n",
       "      <td>7</td>\n",
       "    </tr>\n",
       "  </tbody>\n",
       "</table>\n",
       "<p>1 rows × 24 columns</p>\n",
       "</div>"
      ],
      "text/plain": [
       "           track_name artist(s)_name  artist_count  released_year  \\\n",
       "482  SPIT IN MY FACE!       ThxSoMch             1           2022   \n",
       "\n",
       "     released_month  released_day  in_spotify_playlists  in_spotify_charts  \\\n",
       "482              10            31                   573                  0   \n",
       "\n",
       "         streams  in_apple_playlists  ...  bpm  key   mode  danceability_%  \\\n",
       "482  301869854.0                   1  ...  166   C#  Major              70   \n",
       "\n",
       "     valence_% energy_% acousticness_%  instrumentalness_%  liveness_%  \\\n",
       "482         57       57              9                  20          11   \n",
       "\n",
       "     speechiness_%  \n",
       "482              7  \n",
       "\n",
       "[1 rows x 24 columns]"
      ]
     },
     "execution_count": 55,
     "metadata": {},
     "output_type": "execute_result"
    }
   ],
   "source": [
    "# Remove duplicate\n",
    "df_spotify.drop(index=345, inplace=True)\n",
    "df_spotify.loc[(df_spotify['track_name']=='SPIT IN MY FACE!')]"
   ]
  },
  {
   "cell_type": "markdown",
   "id": "be4770d8-ab42-4c6a-b5e8-9ea9bd8b7e03",
   "metadata": {},
   "source": [
    "### For 'Take my breath'"
   ]
  },
  {
   "cell_type": "code",
   "execution_count": 57,
   "id": "cba54475-0d15-46c2-b198-25341aacfa29",
   "metadata": {},
   "outputs": [
    {
     "data": {
      "text/html": [
       "<div>\n",
       "<style scoped>\n",
       "    .dataframe tbody tr th:only-of-type {\n",
       "        vertical-align: middle;\n",
       "    }\n",
       "\n",
       "    .dataframe tbody tr th {\n",
       "        vertical-align: top;\n",
       "    }\n",
       "\n",
       "    .dataframe thead th {\n",
       "        text-align: right;\n",
       "    }\n",
       "</style>\n",
       "<table border=\"1\" class=\"dataframe\">\n",
       "  <thead>\n",
       "    <tr style=\"text-align: right;\">\n",
       "      <th></th>\n",
       "      <th>track_name</th>\n",
       "      <th>artist(s)_name</th>\n",
       "      <th>artist_count</th>\n",
       "      <th>released_year</th>\n",
       "      <th>released_month</th>\n",
       "      <th>released_day</th>\n",
       "      <th>in_spotify_playlists</th>\n",
       "      <th>in_spotify_charts</th>\n",
       "      <th>streams</th>\n",
       "      <th>in_apple_playlists</th>\n",
       "      <th>...</th>\n",
       "      <th>bpm</th>\n",
       "      <th>key</th>\n",
       "      <th>mode</th>\n",
       "      <th>danceability_%</th>\n",
       "      <th>valence_%</th>\n",
       "      <th>energy_%</th>\n",
       "      <th>acousticness_%</th>\n",
       "      <th>instrumentalness_%</th>\n",
       "      <th>liveness_%</th>\n",
       "      <th>speechiness_%</th>\n",
       "    </tr>\n",
       "  </thead>\n",
       "  <tbody>\n",
       "    <tr>\n",
       "      <th>512</th>\n",
       "      <td>Take My Breath</td>\n",
       "      <td>The Weeknd</td>\n",
       "      <td>1</td>\n",
       "      <td>2021</td>\n",
       "      <td>8</td>\n",
       "      <td>6</td>\n",
       "      <td>2597</td>\n",
       "      <td>0</td>\n",
       "      <td>130655803.0</td>\n",
       "      <td>17</td>\n",
       "      <td>...</td>\n",
       "      <td>121</td>\n",
       "      <td>A#</td>\n",
       "      <td>Minor</td>\n",
       "      <td>70</td>\n",
       "      <td>35</td>\n",
       "      <td>77</td>\n",
       "      <td>1</td>\n",
       "      <td>0</td>\n",
       "      <td>26</td>\n",
       "      <td>4</td>\n",
       "    </tr>\n",
       "    <tr>\n",
       "      <th>616</th>\n",
       "      <td>Take My Breath</td>\n",
       "      <td>The Weeknd</td>\n",
       "      <td>1</td>\n",
       "      <td>2021</td>\n",
       "      <td>8</td>\n",
       "      <td>6</td>\n",
       "      <td>6392</td>\n",
       "      <td>0</td>\n",
       "      <td>432702334.0</td>\n",
       "      <td>174</td>\n",
       "      <td>...</td>\n",
       "      <td>121</td>\n",
       "      <td>G#</td>\n",
       "      <td>Major</td>\n",
       "      <td>75</td>\n",
       "      <td>53</td>\n",
       "      <td>74</td>\n",
       "      <td>2</td>\n",
       "      <td>0</td>\n",
       "      <td>11</td>\n",
       "      <td>5</td>\n",
       "    </tr>\n",
       "  </tbody>\n",
       "</table>\n",
       "<p>2 rows × 24 columns</p>\n",
       "</div>"
      ],
      "text/plain": [
       "         track_name artist(s)_name  artist_count  released_year  \\\n",
       "512  Take My Breath     The Weeknd             1           2021   \n",
       "616  Take My Breath     The Weeknd             1           2021   \n",
       "\n",
       "     released_month  released_day  in_spotify_playlists  in_spotify_charts  \\\n",
       "512               8             6                  2597                  0   \n",
       "616               8             6                  6392                  0   \n",
       "\n",
       "         streams  in_apple_playlists  ...  bpm  key   mode  danceability_%  \\\n",
       "512  130655803.0                  17  ...  121   A#  Minor              70   \n",
       "616  432702334.0                 174  ...  121   G#  Major              75   \n",
       "\n",
       "     valence_% energy_% acousticness_%  instrumentalness_%  liveness_%  \\\n",
       "512         35       77              1                   0          26   \n",
       "616         53       74              2                   0          11   \n",
       "\n",
       "     speechiness_%  \n",
       "512              4  \n",
       "616              5  \n",
       "\n",
       "[2 rows x 24 columns]"
      ]
     },
     "execution_count": 57,
     "metadata": {},
     "output_type": "execute_result"
    }
   ],
   "source": [
    "#Locate track 'TAKE MY BREATH'\n",
    "df_spotify.loc[(df_spotify['track_name']=='Take My Breath')]"
   ]
  },
  {
   "cell_type": "markdown",
   "id": "7b885b9e-bb3b-4825-8ffe-ee9f759f1a62",
   "metadata": {},
   "source": [
    "##### Remove the wrong key and bpm "
   ]
  },
  {
   "cell_type": "code",
   "execution_count": 59,
   "id": "1f7a8dc9-8776-4722-bc3b-ac139d270945",
   "metadata": {},
   "outputs": [
    {
     "data": {
      "text/html": [
       "<div>\n",
       "<style scoped>\n",
       "    .dataframe tbody tr th:only-of-type {\n",
       "        vertical-align: middle;\n",
       "    }\n",
       "\n",
       "    .dataframe tbody tr th {\n",
       "        vertical-align: top;\n",
       "    }\n",
       "\n",
       "    .dataframe thead th {\n",
       "        text-align: right;\n",
       "    }\n",
       "</style>\n",
       "<table border=\"1\" class=\"dataframe\">\n",
       "  <thead>\n",
       "    <tr style=\"text-align: right;\">\n",
       "      <th></th>\n",
       "      <th>track_name</th>\n",
       "      <th>artist(s)_name</th>\n",
       "      <th>artist_count</th>\n",
       "      <th>released_year</th>\n",
       "      <th>released_month</th>\n",
       "      <th>released_day</th>\n",
       "      <th>in_spotify_playlists</th>\n",
       "      <th>in_spotify_charts</th>\n",
       "      <th>streams</th>\n",
       "      <th>in_apple_playlists</th>\n",
       "      <th>...</th>\n",
       "      <th>bpm</th>\n",
       "      <th>key</th>\n",
       "      <th>mode</th>\n",
       "      <th>danceability_%</th>\n",
       "      <th>valence_%</th>\n",
       "      <th>energy_%</th>\n",
       "      <th>acousticness_%</th>\n",
       "      <th>instrumentalness_%</th>\n",
       "      <th>liveness_%</th>\n",
       "      <th>speechiness_%</th>\n",
       "    </tr>\n",
       "  </thead>\n",
       "  <tbody>\n",
       "    <tr>\n",
       "      <th>616</th>\n",
       "      <td>Take My Breath</td>\n",
       "      <td>The Weeknd</td>\n",
       "      <td>1</td>\n",
       "      <td>2021</td>\n",
       "      <td>8</td>\n",
       "      <td>6</td>\n",
       "      <td>6392</td>\n",
       "      <td>0</td>\n",
       "      <td>432702334.0</td>\n",
       "      <td>174</td>\n",
       "      <td>...</td>\n",
       "      <td>121</td>\n",
       "      <td>G#</td>\n",
       "      <td>Major</td>\n",
       "      <td>75</td>\n",
       "      <td>53</td>\n",
       "      <td>74</td>\n",
       "      <td>2</td>\n",
       "      <td>0</td>\n",
       "      <td>11</td>\n",
       "      <td>5</td>\n",
       "    </tr>\n",
       "  </tbody>\n",
       "</table>\n",
       "<p>1 rows × 24 columns</p>\n",
       "</div>"
      ],
      "text/plain": [
       "         track_name artist(s)_name  artist_count  released_year  \\\n",
       "616  Take My Breath     The Weeknd             1           2021   \n",
       "\n",
       "     released_month  released_day  in_spotify_playlists  in_spotify_charts  \\\n",
       "616               8             6                  6392                  0   \n",
       "\n",
       "         streams  in_apple_playlists  ...  bpm  key   mode  danceability_%  \\\n",
       "616  432702334.0                 174  ...  121   G#  Major              75   \n",
       "\n",
       "     valence_% energy_% acousticness_%  instrumentalness_%  liveness_%  \\\n",
       "616         53       74              2                   0          11   \n",
       "\n",
       "     speechiness_%  \n",
       "616              5  \n",
       "\n",
       "[1 rows x 24 columns]"
      ]
     },
     "execution_count": 59,
     "metadata": {},
     "output_type": "execute_result"
    }
   ],
   "source": [
    "#Remove duplicate\n",
    "df_spotify.drop(index=512, inplace=True)\n",
    "df_spotify.loc[(df_spotify['track_name']=='Take My Breath')]"
   ]
  },
  {
   "cell_type": "markdown",
   "id": "72d7edbd-abcd-46a8-9307-a51f2c776052",
   "metadata": {},
   "source": [
    "### For 'About Damn Time'"
   ]
  },
  {
   "cell_type": "code",
   "execution_count": 61,
   "id": "0f8b2a83-91e9-4ab0-bf17-244f6013490e",
   "metadata": {},
   "outputs": [
    {
     "data": {
      "text/html": [
       "<div>\n",
       "<style scoped>\n",
       "    .dataframe tbody tr th:only-of-type {\n",
       "        vertical-align: middle;\n",
       "    }\n",
       "\n",
       "    .dataframe tbody tr th {\n",
       "        vertical-align: top;\n",
       "    }\n",
       "\n",
       "    .dataframe thead th {\n",
       "        text-align: right;\n",
       "    }\n",
       "</style>\n",
       "<table border=\"1\" class=\"dataframe\">\n",
       "  <thead>\n",
       "    <tr style=\"text-align: right;\">\n",
       "      <th></th>\n",
       "      <th>track_name</th>\n",
       "      <th>artist(s)_name</th>\n",
       "      <th>artist_count</th>\n",
       "      <th>released_year</th>\n",
       "      <th>released_month</th>\n",
       "      <th>released_day</th>\n",
       "      <th>in_spotify_playlists</th>\n",
       "      <th>in_spotify_charts</th>\n",
       "      <th>streams</th>\n",
       "      <th>in_apple_playlists</th>\n",
       "      <th>...</th>\n",
       "      <th>bpm</th>\n",
       "      <th>key</th>\n",
       "      <th>mode</th>\n",
       "      <th>danceability_%</th>\n",
       "      <th>valence_%</th>\n",
       "      <th>energy_%</th>\n",
       "      <th>acousticness_%</th>\n",
       "      <th>instrumentalness_%</th>\n",
       "      <th>liveness_%</th>\n",
       "      <th>speechiness_%</th>\n",
       "    </tr>\n",
       "  </thead>\n",
       "  <tbody>\n",
       "    <tr>\n",
       "      <th>372</th>\n",
       "      <td>About Damn Time</td>\n",
       "      <td>Lizzo</td>\n",
       "      <td>1</td>\n",
       "      <td>2022</td>\n",
       "      <td>7</td>\n",
       "      <td>15</td>\n",
       "      <td>2332</td>\n",
       "      <td>2</td>\n",
       "      <td>723894473.0</td>\n",
       "      <td>0</td>\n",
       "      <td>...</td>\n",
       "      <td>109</td>\n",
       "      <td>A#</td>\n",
       "      <td>Minor</td>\n",
       "      <td>84</td>\n",
       "      <td>72</td>\n",
       "      <td>74</td>\n",
       "      <td>10</td>\n",
       "      <td>0</td>\n",
       "      <td>34</td>\n",
       "      <td>7</td>\n",
       "    </tr>\n",
       "    <tr>\n",
       "      <th>764</th>\n",
       "      <td>About Damn Time</td>\n",
       "      <td>Lizzo</td>\n",
       "      <td>1</td>\n",
       "      <td>2022</td>\n",
       "      <td>4</td>\n",
       "      <td>14</td>\n",
       "      <td>9021</td>\n",
       "      <td>0</td>\n",
       "      <td>723894473.0</td>\n",
       "      <td>242</td>\n",
       "      <td>...</td>\n",
       "      <td>109</td>\n",
       "      <td>A#</td>\n",
       "      <td>Minor</td>\n",
       "      <td>84</td>\n",
       "      <td>72</td>\n",
       "      <td>74</td>\n",
       "      <td>10</td>\n",
       "      <td>0</td>\n",
       "      <td>34</td>\n",
       "      <td>7</td>\n",
       "    </tr>\n",
       "  </tbody>\n",
       "</table>\n",
       "<p>2 rows × 24 columns</p>\n",
       "</div>"
      ],
      "text/plain": [
       "          track_name artist(s)_name  artist_count  released_year  \\\n",
       "372  About Damn Time          Lizzo             1           2022   \n",
       "764  About Damn Time          Lizzo             1           2022   \n",
       "\n",
       "     released_month  released_day  in_spotify_playlists  in_spotify_charts  \\\n",
       "372               7            15                  2332                  2   \n",
       "764               4            14                  9021                  0   \n",
       "\n",
       "         streams  in_apple_playlists  ...  bpm  key   mode  danceability_%  \\\n",
       "372  723894473.0                   0  ...  109   A#  Minor              84   \n",
       "764  723894473.0                 242  ...  109   A#  Minor              84   \n",
       "\n",
       "     valence_% energy_% acousticness_%  instrumentalness_%  liveness_%  \\\n",
       "372         72       74             10                   0          34   \n",
       "764         72       74             10                   0          34   \n",
       "\n",
       "     speechiness_%  \n",
       "372              7  \n",
       "764              7  \n",
       "\n",
       "[2 rows x 24 columns]"
      ]
     },
     "execution_count": 61,
     "metadata": {},
     "output_type": "execute_result"
    }
   ],
   "source": [
    "#Locate track 'About Damn Time'\n",
    "df_spotify.loc[(df_spotify['track_name']=='About Damn Time')]"
   ]
  },
  {
   "cell_type": "markdown",
   "id": "d9d9d065-2f94-4cbd-87ba-69bdb6a5c85d",
   "metadata": {},
   "source": [
    "##### Keep the proper release date of the song"
   ]
  },
  {
   "cell_type": "code",
   "execution_count": 63,
   "id": "ab1383f5-9cb9-4634-a0d5-d95dbd1c1d91",
   "metadata": {},
   "outputs": [
    {
     "data": {
      "text/html": [
       "<div>\n",
       "<style scoped>\n",
       "    .dataframe tbody tr th:only-of-type {\n",
       "        vertical-align: middle;\n",
       "    }\n",
       "\n",
       "    .dataframe tbody tr th {\n",
       "        vertical-align: top;\n",
       "    }\n",
       "\n",
       "    .dataframe thead th {\n",
       "        text-align: right;\n",
       "    }\n",
       "</style>\n",
       "<table border=\"1\" class=\"dataframe\">\n",
       "  <thead>\n",
       "    <tr style=\"text-align: right;\">\n",
       "      <th></th>\n",
       "      <th>track_name</th>\n",
       "      <th>artist(s)_name</th>\n",
       "      <th>artist_count</th>\n",
       "      <th>released_year</th>\n",
       "      <th>released_month</th>\n",
       "      <th>released_day</th>\n",
       "      <th>in_spotify_playlists</th>\n",
       "      <th>in_spotify_charts</th>\n",
       "      <th>streams</th>\n",
       "      <th>in_apple_playlists</th>\n",
       "      <th>...</th>\n",
       "      <th>bpm</th>\n",
       "      <th>key</th>\n",
       "      <th>mode</th>\n",
       "      <th>danceability_%</th>\n",
       "      <th>valence_%</th>\n",
       "      <th>energy_%</th>\n",
       "      <th>acousticness_%</th>\n",
       "      <th>instrumentalness_%</th>\n",
       "      <th>liveness_%</th>\n",
       "      <th>speechiness_%</th>\n",
       "    </tr>\n",
       "  </thead>\n",
       "  <tbody>\n",
       "    <tr>\n",
       "      <th>764</th>\n",
       "      <td>About Damn Time</td>\n",
       "      <td>Lizzo</td>\n",
       "      <td>1</td>\n",
       "      <td>2022</td>\n",
       "      <td>4</td>\n",
       "      <td>14</td>\n",
       "      <td>9021</td>\n",
       "      <td>0</td>\n",
       "      <td>723894473.0</td>\n",
       "      <td>242</td>\n",
       "      <td>...</td>\n",
       "      <td>109</td>\n",
       "      <td>A#</td>\n",
       "      <td>Minor</td>\n",
       "      <td>84</td>\n",
       "      <td>72</td>\n",
       "      <td>74</td>\n",
       "      <td>10</td>\n",
       "      <td>0</td>\n",
       "      <td>34</td>\n",
       "      <td>7</td>\n",
       "    </tr>\n",
       "  </tbody>\n",
       "</table>\n",
       "<p>1 rows × 24 columns</p>\n",
       "</div>"
      ],
      "text/plain": [
       "          track_name artist(s)_name  artist_count  released_year  \\\n",
       "764  About Damn Time          Lizzo             1           2022   \n",
       "\n",
       "     released_month  released_day  in_spotify_playlists  in_spotify_charts  \\\n",
       "764               4            14                  9021                  0   \n",
       "\n",
       "         streams  in_apple_playlists  ...  bpm  key   mode  danceability_%  \\\n",
       "764  723894473.0                 242  ...  109   A#  Minor              84   \n",
       "\n",
       "     valence_% energy_% acousticness_%  instrumentalness_%  liveness_%  \\\n",
       "764         72       74             10                   0          34   \n",
       "\n",
       "     speechiness_%  \n",
       "764              7  \n",
       "\n",
       "[1 rows x 24 columns]"
      ]
     },
     "execution_count": 63,
     "metadata": {},
     "output_type": "execute_result"
    }
   ],
   "source": [
    "#Remove duplicate\n",
    "df_spotify.drop(index=372, inplace=True)\n",
    "df_spotify.loc[(df_spotify['track_name']=='About Damn Time')]"
   ]
  },
  {
   "cell_type": "markdown",
   "id": "40e8013a-7e1d-4216-b278-50bdf8eaa0cb",
   "metadata": {},
   "source": [
    "### For SNAP"
   ]
  },
  {
   "cell_type": "code",
   "execution_count": 65,
   "id": "2d530cc5-ede8-448f-b250-c0ea7bb11b5e",
   "metadata": {},
   "outputs": [
    {
     "data": {
      "text/html": [
       "<div>\n",
       "<style scoped>\n",
       "    .dataframe tbody tr th:only-of-type {\n",
       "        vertical-align: middle;\n",
       "    }\n",
       "\n",
       "    .dataframe tbody tr th {\n",
       "        vertical-align: top;\n",
       "    }\n",
       "\n",
       "    .dataframe thead th {\n",
       "        text-align: right;\n",
       "    }\n",
       "</style>\n",
       "<table border=\"1\" class=\"dataframe\">\n",
       "  <thead>\n",
       "    <tr style=\"text-align: right;\">\n",
       "      <th></th>\n",
       "      <th>track_name</th>\n",
       "      <th>artist(s)_name</th>\n",
       "      <th>artist_count</th>\n",
       "      <th>released_year</th>\n",
       "      <th>released_month</th>\n",
       "      <th>released_day</th>\n",
       "      <th>in_spotify_playlists</th>\n",
       "      <th>in_spotify_charts</th>\n",
       "      <th>streams</th>\n",
       "      <th>in_apple_playlists</th>\n",
       "      <th>...</th>\n",
       "      <th>bpm</th>\n",
       "      <th>key</th>\n",
       "      <th>mode</th>\n",
       "      <th>danceability_%</th>\n",
       "      <th>valence_%</th>\n",
       "      <th>energy_%</th>\n",
       "      <th>acousticness_%</th>\n",
       "      <th>instrumentalness_%</th>\n",
       "      <th>liveness_%</th>\n",
       "      <th>speechiness_%</th>\n",
       "    </tr>\n",
       "  </thead>\n",
       "  <tbody>\n",
       "    <tr>\n",
       "      <th>178</th>\n",
       "      <td>SNAP</td>\n",
       "      <td>Rosa Linn</td>\n",
       "      <td>1</td>\n",
       "      <td>2022</td>\n",
       "      <td>3</td>\n",
       "      <td>19</td>\n",
       "      <td>3202</td>\n",
       "      <td>18</td>\n",
       "      <td>726307468.0</td>\n",
       "      <td>148</td>\n",
       "      <td>...</td>\n",
       "      <td>170</td>\n",
       "      <td>NaN</td>\n",
       "      <td>Major</td>\n",
       "      <td>56</td>\n",
       "      <td>53</td>\n",
       "      <td>64</td>\n",
       "      <td>11</td>\n",
       "      <td>0</td>\n",
       "      <td>45</td>\n",
       "      <td>6</td>\n",
       "    </tr>\n",
       "    <tr>\n",
       "      <th>873</th>\n",
       "      <td>SNAP</td>\n",
       "      <td>Rosa Linn</td>\n",
       "      <td>1</td>\n",
       "      <td>2022</td>\n",
       "      <td>3</td>\n",
       "      <td>19</td>\n",
       "      <td>1818</td>\n",
       "      <td>0</td>\n",
       "      <td>711366595.0</td>\n",
       "      <td>3</td>\n",
       "      <td>...</td>\n",
       "      <td>170</td>\n",
       "      <td>NaN</td>\n",
       "      <td>Major</td>\n",
       "      <td>56</td>\n",
       "      <td>52</td>\n",
       "      <td>64</td>\n",
       "      <td>11</td>\n",
       "      <td>0</td>\n",
       "      <td>45</td>\n",
       "      <td>7</td>\n",
       "    </tr>\n",
       "  </tbody>\n",
       "</table>\n",
       "<p>2 rows × 24 columns</p>\n",
       "</div>"
      ],
      "text/plain": [
       "    track_name artist(s)_name  artist_count  released_year  released_month  \\\n",
       "178       SNAP      Rosa Linn             1           2022               3   \n",
       "873       SNAP      Rosa Linn             1           2022               3   \n",
       "\n",
       "     released_day  in_spotify_playlists  in_spotify_charts      streams  \\\n",
       "178            19                  3202                 18  726307468.0   \n",
       "873            19                  1818                  0  711366595.0   \n",
       "\n",
       "     in_apple_playlists  ...  bpm  key   mode  danceability_%  valence_%  \\\n",
       "178                 148  ...  170  NaN  Major              56         53   \n",
       "873                   3  ...  170  NaN  Major              56         52   \n",
       "\n",
       "    energy_% acousticness_%  instrumentalness_%  liveness_%  speechiness_%  \n",
       "178       64             11                   0          45              6  \n",
       "873       64             11                   0          45              7  \n",
       "\n",
       "[2 rows x 24 columns]"
      ]
     },
     "execution_count": 65,
     "metadata": {},
     "output_type": "execute_result"
    }
   ],
   "source": [
    "#locate track 'SNAP'\n",
    "df_spotify.loc[(df_spotify['track_name']=='SNAP')]"
   ]
  },
  {
   "cell_type": "markdown",
   "id": "4b219a91-619c-4297-8556-76f850ee8524",
   "metadata": {},
   "source": [
    "##### There is a difference between the information of duplicates and we should keep the most updated information"
   ]
  },
  {
   "cell_type": "code",
   "execution_count": 67,
   "id": "ea9a548a-9058-42ea-bfad-197d1fc1f492",
   "metadata": {},
   "outputs": [
    {
     "data": {
      "text/html": [
       "<div>\n",
       "<style scoped>\n",
       "    .dataframe tbody tr th:only-of-type {\n",
       "        vertical-align: middle;\n",
       "    }\n",
       "\n",
       "    .dataframe tbody tr th {\n",
       "        vertical-align: top;\n",
       "    }\n",
       "\n",
       "    .dataframe thead th {\n",
       "        text-align: right;\n",
       "    }\n",
       "</style>\n",
       "<table border=\"1\" class=\"dataframe\">\n",
       "  <thead>\n",
       "    <tr style=\"text-align: right;\">\n",
       "      <th></th>\n",
       "      <th>track_name</th>\n",
       "      <th>artist(s)_name</th>\n",
       "      <th>artist_count</th>\n",
       "      <th>released_year</th>\n",
       "      <th>released_month</th>\n",
       "      <th>released_day</th>\n",
       "      <th>in_spotify_playlists</th>\n",
       "      <th>in_spotify_charts</th>\n",
       "      <th>streams</th>\n",
       "      <th>in_apple_playlists</th>\n",
       "      <th>...</th>\n",
       "      <th>bpm</th>\n",
       "      <th>key</th>\n",
       "      <th>mode</th>\n",
       "      <th>danceability_%</th>\n",
       "      <th>valence_%</th>\n",
       "      <th>energy_%</th>\n",
       "      <th>acousticness_%</th>\n",
       "      <th>instrumentalness_%</th>\n",
       "      <th>liveness_%</th>\n",
       "      <th>speechiness_%</th>\n",
       "    </tr>\n",
       "  </thead>\n",
       "  <tbody>\n",
       "    <tr>\n",
       "      <th>178</th>\n",
       "      <td>SNAP</td>\n",
       "      <td>Rosa Linn</td>\n",
       "      <td>1</td>\n",
       "      <td>2022</td>\n",
       "      <td>3</td>\n",
       "      <td>19</td>\n",
       "      <td>3202</td>\n",
       "      <td>18</td>\n",
       "      <td>726307468.0</td>\n",
       "      <td>148</td>\n",
       "      <td>...</td>\n",
       "      <td>170</td>\n",
       "      <td>NaN</td>\n",
       "      <td>Major</td>\n",
       "      <td>56</td>\n",
       "      <td>53</td>\n",
       "      <td>64</td>\n",
       "      <td>11</td>\n",
       "      <td>0</td>\n",
       "      <td>45</td>\n",
       "      <td>6</td>\n",
       "    </tr>\n",
       "  </tbody>\n",
       "</table>\n",
       "<p>1 rows × 24 columns</p>\n",
       "</div>"
      ],
      "text/plain": [
       "    track_name artist(s)_name  artist_count  released_year  released_month  \\\n",
       "178       SNAP      Rosa Linn             1           2022               3   \n",
       "\n",
       "     released_day  in_spotify_playlists  in_spotify_charts      streams  \\\n",
       "178            19                  3202                 18  726307468.0   \n",
       "\n",
       "     in_apple_playlists  ...  bpm  key   mode  danceability_%  valence_%  \\\n",
       "178                 148  ...  170  NaN  Major              56         53   \n",
       "\n",
       "    energy_% acousticness_%  instrumentalness_%  liveness_%  speechiness_%  \n",
       "178       64             11                   0          45              6  \n",
       "\n",
       "[1 rows x 24 columns]"
      ]
     },
     "execution_count": 67,
     "metadata": {},
     "output_type": "execute_result"
    }
   ],
   "source": [
    "#Remove duplicate\n",
    "df_spotify.drop(index=873, inplace=True)\n",
    "df_spotify.loc[(df_spotify['track_name']=='SNAP')]"
   ]
  },
  {
   "cell_type": "code",
   "execution_count": 68,
   "id": "8b9281e3-5fc5-4b5d-a08f-04bf9523ef2d",
   "metadata": {},
   "outputs": [
    {
     "data": {
      "text/html": [
       "<div>\n",
       "<style scoped>\n",
       "    .dataframe tbody tr th:only-of-type {\n",
       "        vertical-align: middle;\n",
       "    }\n",
       "\n",
       "    .dataframe tbody tr th {\n",
       "        vertical-align: top;\n",
       "    }\n",
       "\n",
       "    .dataframe thead th {\n",
       "        text-align: right;\n",
       "    }\n",
       "</style>\n",
       "<table border=\"1\" class=\"dataframe\">\n",
       "  <thead>\n",
       "    <tr style=\"text-align: right;\">\n",
       "      <th></th>\n",
       "      <th>track_name</th>\n",
       "      <th>artist(s)_name</th>\n",
       "      <th>artist_count</th>\n",
       "      <th>released_year</th>\n",
       "      <th>released_month</th>\n",
       "      <th>released_day</th>\n",
       "      <th>in_spotify_playlists</th>\n",
       "      <th>in_spotify_charts</th>\n",
       "      <th>streams</th>\n",
       "      <th>in_apple_playlists</th>\n",
       "      <th>...</th>\n",
       "      <th>bpm</th>\n",
       "      <th>key</th>\n",
       "      <th>mode</th>\n",
       "      <th>danceability_%</th>\n",
       "      <th>valence_%</th>\n",
       "      <th>energy_%</th>\n",
       "      <th>acousticness_%</th>\n",
       "      <th>instrumentalness_%</th>\n",
       "      <th>liveness_%</th>\n",
       "      <th>speechiness_%</th>\n",
       "    </tr>\n",
       "  </thead>\n",
       "  <tbody>\n",
       "  </tbody>\n",
       "</table>\n",
       "<p>0 rows × 24 columns</p>\n",
       "</div>"
      ],
      "text/plain": [
       "Empty DataFrame\n",
       "Columns: [track_name, artist(s)_name, artist_count, released_year, released_month, released_day, in_spotify_playlists, in_spotify_charts, streams, in_apple_playlists, in_apple_charts, in_deezer_playlists, in_deezer_charts, in_shazam_charts, bpm, key, mode, danceability_%, valence_%, energy_%, acousticness_%, instrumentalness_%, liveness_%, speechiness_%]\n",
       "Index: []\n",
       "\n",
       "[0 rows x 24 columns]"
      ]
     },
     "execution_count": 68,
     "metadata": {},
     "output_type": "execute_result"
    }
   ],
   "source": [
    "#Locate tracks with duplicate\n",
    "df_spotify[df_spotify.duplicated([\"track_name\",\"artist(s)_name\"])]"
   ]
  },
  {
   "cell_type": "markdown",
   "id": "93d4c791-95f0-4694-b7dc-c9653ab7dcb4",
   "metadata": {},
   "source": [
    "___"
   ]
  },
  {
   "cell_type": "markdown",
   "id": "ace24a5e-52bd-4c0f-8977-6d678fc76e42",
   "metadata": {},
   "source": [
    "### Missing Values"
   ]
  },
  {
   "cell_type": "markdown",
   "id": "39114c73-dd14-404a-8af5-ec7bf37cf300",
   "metadata": {},
   "source": [
    "##### .isna() returns a bool value ___"
   ]
  },
  {
   "cell_type": "markdown",
   "id": "7ee27590-9d0d-4b7e-95fb-88a83361f8c8",
   "metadata": {},
   "source": [
    "##### .sum() counts all the true.isna and returns the value "
   ]
  },
  {
   "cell_type": "markdown",
   "id": "2275542d-eb02-4e9c-898f-00f483e7636b",
   "metadata": {},
   "source": [
    "##### The missing_values>0 condition is used to only print attributes with missing values, allowing you to see which specific attributes have them."
   ]
  },
  {
   "cell_type": "code",
   "execution_count": 74,
   "id": "21f62f41-7821-4c6b-b8c0-35af6d2a6e9a",
   "metadata": {},
   "outputs": [
    {
     "name": "stdout",
     "output_type": "stream",
     "text": [
      "The attributes that have missing values in the dataset are \n",
      "\n",
      "in_shazam_charts    50\n",
      "key                 94\n",
      "dtype: int64\n"
     ]
    }
   ],
   "source": [
    "#Locate tracks with missing values\n",
    "missing_values = df_spotify.isna().sum()\n",
    "\n",
    "print(\"The attributes that have missing values in the dataset are \")\n",
    "print()\n",
    "print(missing_values[missing_values>0])"
   ]
  },
  {
   "cell_type": "code",
   "execution_count": 75,
   "id": "13c3b976-ae18-4e09-a7b3-12ebcc8da6f6",
   "metadata": {},
   "outputs": [
    {
     "data": {
      "text/plain": [
       "\"The median value of the 'in_shazam_charts' is 3.0\""
      ]
     },
     "execution_count": 75,
     "metadata": {},
     "output_type": "execute_result"
    }
   ],
   "source": [
    "#Calculate median of given track\n",
    "shazam_median = df_spotify['in_shazam_charts'].median()\n",
    "f\"The median value of the 'in_shazam_charts' is {shazam_median}\""
   ]
  },
  {
   "cell_type": "markdown",
   "id": "a8375ff1-2e2e-4109-b0c3-7541019cbd54",
   "metadata": {},
   "source": [
    "##### Imputation method is to be used when the missing values is less than 10% of the population"
   ]
  },
  {
   "cell_type": "markdown",
   "id": "e1977065-2e4d-4328-bfe0-199c11b19d35",
   "metadata": {},
   "source": [
    "##### Since the key column's missing values are unique to each song and object datatype, we will simply mark them as missing. This is because the data is categorical and cannot be approximated using mean or median approaches."
   ]
  },
  {
   "cell_type": "markdown",
   "id": "39020611-b6a4-4285-9325-e85228cf3a60",
   "metadata": {},
   "source": [
    "##### Looking into it more, it appears that most data analysis software and algorithms presume that data are randomly missing."
   ]
  },
  {
   "cell_type": "markdown",
   "id": "6d9d44d1-6fa8-472f-80a6-2f6570623ff4",
   "metadata": {},
   "source": [
    "##### I chose the median imputation approach for the missing values in the in_shazam_charts because it assumes that all of the data is randomly missing."
   ]
  },
  {
   "cell_type": "code",
   "execution_count": 80,
   "id": "544467db-aa66-4bb6-b29e-a22a8b9a9f62",
   "metadata": {},
   "outputs": [
    {
     "name": "stderr",
     "output_type": "stream",
     "text": [
      "C:\\Users\\PC\\AppData\\Local\\Temp\\ipykernel_11680\\2838702160.py:2: FutureWarning: A value is trying to be set on a copy of a DataFrame or Series through chained assignment using an inplace method.\n",
      "The behavior will change in pandas 3.0. This inplace method will never work because the intermediate object on which we are setting values always behaves as a copy.\n",
      "\n",
      "For example, when doing 'df[col].method(value, inplace=True)', try using 'df.method({col: value}, inplace=True)' or df[col] = df[col].method(value) instead, to perform the operation inplace on the original object.\n",
      "\n",
      "\n",
      "  df_spotify['in_shazam_charts'].fillna(shazam_median, inplace=True)\n"
     ]
    }
   ],
   "source": [
    "#Fill missing values\n",
    "df_spotify['in_shazam_charts'].fillna(shazam_median, inplace=True)"
   ]
  },
  {
   "cell_type": "code",
   "execution_count": 81,
   "id": "e7f8b606-ffe2-4957-a8eb-1db196129a69",
   "metadata": {},
   "outputs": [
    {
     "name": "stdout",
     "output_type": "stream",
     "text": [
      "The updated missing values are now \n",
      "\n",
      "key    94\n",
      "dtype: int64\n"
     ]
    }
   ],
   "source": [
    "#Print output\n",
    "missing_values = df_spotify.isna().sum()\n",
    "print(\"The updated missing values are now \")\n",
    "print()\n",
    "print(missing_values[missing_values>0])"
   ]
  },
  {
   "cell_type": "markdown",
   "id": "748cabe0-0a9c-4528-ae8d-8a956d484a20",
   "metadata": {},
   "source": [
    "##### With the removal of the rows containing missing key values, the missing values for in_shazam_charts have also decreased, making median imputation safer to carry out because it will keep the song's other variables while having less of an effect on the whole population."
   ]
  },
  {
   "cell_type": "code",
   "execution_count": 83,
   "id": "f0f1344a-cc04-4bca-bb97-b42295849269",
   "metadata": {},
   "outputs": [
    {
     "name": "stderr",
     "output_type": "stream",
     "text": [
      "C:\\Users\\PC\\AppData\\Local\\Temp\\ipykernel_11680\\3851771827.py:1: FutureWarning: A value is trying to be set on a copy of a DataFrame or Series through chained assignment using an inplace method.\n",
      "The behavior will change in pandas 3.0. This inplace method will never work because the intermediate object on which we are setting values always behaves as a copy.\n",
      "\n",
      "For example, when doing 'df[col].method(value, inplace=True)', try using 'df.method({col: value}, inplace=True)' or df[col] = df[col].method(value) instead, to perform the operation inplace on the original object.\n",
      "\n",
      "\n",
      "  df_spotify['in_shazam_charts'].fillna(shazam_median, inplace=True)\n"
     ]
    }
   ],
   "source": [
    "#Fill missing values with the median\n",
    "df_spotify['in_shazam_charts'].fillna(shazam_median, inplace=True)"
   ]
  },
  {
   "cell_type": "markdown",
   "id": "c89b059f-5c19-473e-8d9b-48641eb9a987",
   "metadata": {},
   "source": [
    "##### Finally, since many rows were removed from the original dataframe, we should reset the index..fillna() is used to fill all nan values with something else, like the shazam_median, and inplace=True ensures that the action is performed on the original dataframe rather than in a separate copy."
   ]
  },
  {
   "cell_type": "code",
   "execution_count": 85,
   "id": "8fc835cc-c57d-4e57-aa8a-852e329e9d27",
   "metadata": {},
   "outputs": [],
   "source": [
    "#Reset index\n",
    "df_spotify = df_spotify.reset_index(drop=True)"
   ]
  },
  {
   "cell_type": "code",
   "execution_count": 86,
   "id": "c9f0f82f-a36b-40d8-8a49-ebcb04d3cdb7",
   "metadata": {},
   "outputs": [
    {
     "data": {
      "text/plain": [
       "track_name               0\n",
       "artist(s)_name           0\n",
       "artist_count             0\n",
       "released_year            0\n",
       "released_month           0\n",
       "released_day             0\n",
       "in_spotify_playlists     0\n",
       "in_spotify_charts        0\n",
       "streams                  0\n",
       "in_apple_playlists       0\n",
       "in_apple_charts          0\n",
       "in_deezer_playlists      0\n",
       "in_deezer_charts         0\n",
       "in_shazam_charts         0\n",
       "bpm                      0\n",
       "key                     94\n",
       "mode                     0\n",
       "danceability_%           0\n",
       "valence_%                0\n",
       "energy_%                 0\n",
       "acousticness_%           0\n",
       "instrumentalness_%       0\n",
       "liveness_%               0\n",
       "speechiness_%            0\n",
       "dtype: int64"
      ]
     },
     "execution_count": 86,
     "metadata": {},
     "output_type": "execute_result"
    }
   ],
   "source": [
    "#Output\n",
    "df_spotify.isna().sum()"
   ]
  },
  {
   "cell_type": "markdown",
   "id": "b157affa-4ca0-4d69-9249-8b90489c6ea4",
   "metadata": {},
   "source": [
    "df_spotify.info()"
   ]
  },
  {
   "cell_type": "markdown",
   "id": "070ebeb1-d3ac-4f3d-b5c6-1b9a46c719bc",
   "metadata": {},
   "source": [
    "___"
   ]
  },
  {
   "cell_type": "markdown",
   "id": "40bdbb03-5539-4ea1-af8c-984c94a68535",
   "metadata": {},
   "source": [
    "### Overview of Dataset"
   ]
  },
  {
   "cell_type": "markdown",
   "id": "5c27d68f-097d-4769-ab4b-7be5ec2ee0ca",
   "metadata": {},
   "source": [
    "##### The dataset initially contained 24 columns and roughly 953 rows. Following the data's pre-processing and preprocessing, \n",
    "1324 rows and the equal number of columns were the final size as a result."
   ]
  },
  {
   "cell_type": "markdown",
   "id": "0608c73d-82b9-48ec-8212-43945043b4d0",
   "metadata": {},
   "source": [
    "##### Each column's datatype was determined to be either an object or a 64-bit integer, however several categories were mistakenly classified as objects. \n",
    "For example, in_shazam_charts, in_deezer_playlists, and streams. Following the data's pre-processing and preprocessing all three transforemed into a 64-bit float datatype,"
   ]
  },
  {
   "cell_type": "markdown",
   "id": "8cad9012-96eb-4c0e-8ca2-1bb4e44b4845",
   "metadata": {},
   "source": [
    "##### adfijkbsdjfjdkwsf\n"
   ]
  },
  {
   "cell_type": "markdown",
   "id": "50686859-c3b1-43ff-a8df-38f8b395fb82",
   "metadata": {},
   "source": [
    "___"
   ]
  },
  {
   "cell_type": "markdown",
   "id": "07b508f6-b316-416e-b2ec-95edbe14e41a",
   "metadata": {},
   "source": [
    "### Basic Descriptive Statistics"
   ]
  },
  {
   "cell_type": "code",
   "execution_count": 95,
   "id": "cc90470d-6a66-4927-8421-fa3f68799aeb",
   "metadata": {},
   "outputs": [
    {
     "data": {
      "text/plain": [
       "'The total streams of the most streamed spotify songs of 2023 is 487817069125.0'"
      ]
     },
     "execution_count": 95,
     "metadata": {},
     "output_type": "execute_result"
    }
   ],
   "source": [
    "#Print total streams\n",
    "f\"The total streams of the most streamed spotify songs of 2023 is {df_spotify['streams'].sum()}\""
   ]
  },
  {
   "cell_type": "code",
   "execution_count": 96,
   "id": "0afc9e3e-96f0-4f6c-b4be-d4c5a2952c61",
   "metadata": {},
   "outputs": [
    {
     "data": {
      "text/plain": [
       "'The mean of the total streams of the most streamed spotify songs of 2023 is 514032738.8040042'"
      ]
     },
     "execution_count": 96,
     "metadata": {},
     "output_type": "execute_result"
    }
   ],
   "source": [
    "#Print mean of the total streams\n",
    "f\"The mean of the total streams of the most streamed spotify songs of 2023 is {df_spotify['streams'].mean()}\""
   ]
  },
  {
   "cell_type": "code",
   "execution_count": 97,
   "id": "d6267c4a-9d78-4317-b4eb-8dfcaa02edb5",
   "metadata": {},
   "outputs": [
    {
     "data": {
      "text/plain": [
       "'The median of the total streams of the most streamed spotify songs of 2023 is 288101651.0'"
      ]
     },
     "execution_count": 97,
     "metadata": {},
     "output_type": "execute_result"
    }
   ],
   "source": [
    "#Print total median of the streams\n",
    "f\"The median of the total streams of the most streamed spotify songs of 2023 is {df_spotify['streams'].median()}\""
   ]
  },
  {
   "cell_type": "code",
   "execution_count": 98,
   "id": "6d71b501-5014-4ebd-b0c4-542a0d86caa2",
   "metadata": {},
   "outputs": [
    {
     "data": {
      "text/plain": [
       "'The standard deviation of the total streams of the most streamed spotify songs of 2023 is 567574571.0259988'"
      ]
     },
     "execution_count": 98,
     "metadata": {},
     "output_type": "execute_result"
    }
   ],
   "source": [
    "#Print standard deviation of the total streams\n",
    "f\"The standard deviation of the total streams of the most streamed spotify songs of 2023 is {df_spotify['streams'].std()}\""
   ]
  },
  {
   "cell_type": "markdown",
   "id": "4cfd4d0a-f15e-4675-a845-83b61bd3af20",
   "metadata": {},
   "source": [
    "##### The fact that the mean is much higher than the median suggests that songs with more streams are given preference when determining the mean and \n",
    "It most likely grew as well since tracks that are credited to several artists were broken up."
   ]
  },
  {
   "cell_type": "markdown",
   "id": "408828fe-6f4c-4c5d-9ccb-fb529862d97a",
   "metadata": {},
   "source": [
    "##### To make analysis easier, let's examine the top ten songs that have been streamed on Spotify in 2023 by arranging the dataset from most to least streams and the number of streams distribution."
   ]
  },
  {
   "cell_type": "code",
   "execution_count": 101,
   "id": "b594f9d5-344a-4579-87ce-4c9a2d9a0ee0",
   "metadata": {},
   "outputs": [
    {
     "data": {
      "text/html": [
       "<div>\n",
       "<style scoped>\n",
       "    .dataframe tbody tr th:only-of-type {\n",
       "        vertical-align: middle;\n",
       "    }\n",
       "\n",
       "    .dataframe tbody tr th {\n",
       "        vertical-align: top;\n",
       "    }\n",
       "\n",
       "    .dataframe thead th {\n",
       "        text-align: right;\n",
       "    }\n",
       "</style>\n",
       "<table border=\"1\" class=\"dataframe\">\n",
       "  <thead>\n",
       "    <tr style=\"text-align: right;\">\n",
       "      <th></th>\n",
       "      <th>track_name</th>\n",
       "      <th>streams</th>\n",
       "    </tr>\n",
       "  </thead>\n",
       "  <tbody>\n",
       "    <tr>\n",
       "      <th>55</th>\n",
       "      <td>Blinding Lights</td>\n",
       "      <td>3.703895e+09</td>\n",
       "    </tr>\n",
       "    <tr>\n",
       "      <th>179</th>\n",
       "      <td>Shape of You</td>\n",
       "      <td>3.562544e+09</td>\n",
       "    </tr>\n",
       "    <tr>\n",
       "      <th>86</th>\n",
       "      <td>Someone You Loved</td>\n",
       "      <td>2.887242e+09</td>\n",
       "    </tr>\n",
       "    <tr>\n",
       "      <th>617</th>\n",
       "      <td>Dance Monkey</td>\n",
       "      <td>2.864792e+09</td>\n",
       "    </tr>\n",
       "    <tr>\n",
       "      <th>41</th>\n",
       "      <td>Sunflower - Spider-Man: Into the Spider-Verse</td>\n",
       "      <td>2.808097e+09</td>\n",
       "    </tr>\n",
       "    <tr>\n",
       "      <th>162</th>\n",
       "      <td>One Dance</td>\n",
       "      <td>2.713922e+09</td>\n",
       "    </tr>\n",
       "    <tr>\n",
       "      <th>84</th>\n",
       "      <td>STAY (with Justin Bieber)</td>\n",
       "      <td>2.665344e+09</td>\n",
       "    </tr>\n",
       "    <tr>\n",
       "      <th>140</th>\n",
       "      <td>Believer</td>\n",
       "      <td>2.594040e+09</td>\n",
       "    </tr>\n",
       "    <tr>\n",
       "      <th>722</th>\n",
       "      <td>Closer</td>\n",
       "      <td>2.591224e+09</td>\n",
       "    </tr>\n",
       "    <tr>\n",
       "      <th>48</th>\n",
       "      <td>Starboy</td>\n",
       "      <td>2.565530e+09</td>\n",
       "    </tr>\n",
       "  </tbody>\n",
       "</table>\n",
       "</div>"
      ],
      "text/plain": [
       "                                        track_name       streams\n",
       "55                                 Blinding Lights  3.703895e+09\n",
       "179                                   Shape of You  3.562544e+09\n",
       "86                               Someone You Loved  2.887242e+09\n",
       "617                                   Dance Monkey  2.864792e+09\n",
       "41   Sunflower - Spider-Man: Into the Spider-Verse  2.808097e+09\n",
       "162                                      One Dance  2.713922e+09\n",
       "84                       STAY (with Justin Bieber)  2.665344e+09\n",
       "140                                       Believer  2.594040e+09\n",
       "722                                         Closer  2.591224e+09\n",
       "48                                         Starboy  2.565530e+09"
      ]
     },
     "execution_count": 101,
     "metadata": {},
     "output_type": "execute_result"
    }
   ],
   "source": [
    "#Sort values by most streams\n",
    "df_spotify[['track_name', 'streams']].sort_values(by='streams', ascending=False).head(10)"
   ]
  },
  {
   "cell_type": "code",
   "execution_count": 102,
   "id": "054a53c0-c937-4395-bb1a-3dc57b46e430",
   "metadata": {},
   "outputs": [
    {
     "data": {
      "text/plain": [
       "Text(0, 0.5, 'Number of Tracks')"
      ]
     },
     "execution_count": 102,
     "metadata": {},
     "output_type": "execute_result"
    },
    {
     "data": {
      "image/png": "[encoded data removed]",
      "text/plain": [
       "<Figure size 640x480 with 1 Axes>"
      ]
     },
     "metadata": {},
     "output_type": "display_data"
    }
   ],
   "source": [
    "#print output of data by plot\n",
    "sns.histplot(df_spotify, x= 'streams',color='blue', element=\"poly\").set(title = 'Distribution of total streams')\n",
    "sns.set_style(\"whitegrid\", {'grid.linestyle': '--'})\n",
    "\n",
    "plt.xlabel('Number of Streams by Billions')\n",
    "plt.ylabel('Number of Tracks')"
   ]
  },
  {
   "cell_type": "markdown",
   "id": "0932b4e1-31ac-45a9-8e74-115dc4f312b2",
   "metadata": {},
   "source": [
    "##### It can be seen from the graph that the highest streamed song has been streamed for above 3.5 billion"
   ]
  },
  {
   "cell_type": "markdown",
   "id": "5f58dd30-7671-47db-bd49-9a5d09cb61d9",
   "metadata": {},
   "source": [
    "### Distribution of released_year and artist_count"
   ]
  },
  {
   "cell_type": "code",
   "execution_count": 105,
   "id": "ef0d6012-e15b-4ef6-99b6-de2a4615ec88",
   "metadata": {},
   "outputs": [
    {
     "data": {
      "image/png": "[encoded data removed]",
      "text/plain": [
       "<Figure size 1500x500 with 1 Axes>"
      ]
     },
     "metadata": {},
     "output_type": "display_data"
    }
   ],
   "source": [
    "# Create the displot for the 'released_year' column\n",
    "ryd = sns.displot(df_spotify, x='released_year', color='blue', discrete=True, aspect=3)\n",
    "\n",
    "# Set the title for the plot\n",
    "ryd.fig.suptitle(\"Distribution of the Most Streamed Spotify Songs of 2023 by Released Year\", fontsize=16)\n",
    "\n",
    "# Get the underlying axis to customize further\n",
    "ax = ryd.ax\n",
    "\n",
    "# Add gridlines along the y-axis\n",
    "ax.grid(True, axis=\"y\", color=\"gray\", alpha=0.5)\n",
    "\n",
    "# Set the labels for x and y axes\n",
    "ax.set_xlabel('Track Release Year', fontsize=12)\n",
    "ax.set_ylabel('Number of Tracks', fontsize=12)\n",
    "\n",
    "# Adjust layout to avoid overlap (especially with long titles)\n",
    "plt.tight_layout()\n",
    "\n",
    "# Show the plot\n",
    "plt.show()"
   ]
  },
  {
   "cell_type": "markdown",
   "id": "d4a4001d-0500-4d15-9314-9b6cd630be11",
   "metadata": {},
   "source": [
    "##### The songs that have received the most Spotify streams in 2023 appear to be mainly from 2020 and, to a greater level, 2022."
   ]
  },
  {
   "cell_type": "markdown",
   "id": "2c0c508c-29b1-41d1-baf8-27b798292743",
   "metadata": {},
   "source": [
    "##### Additionally, songs launched in 2022 would receive more plays because they had more time to acquire them than those released in 2023. Iit appears that, with the exception of a few goldies and several 2000s retro tunes, the distribution of the song's release year exhibits recency bias.\n"
   ]
  },
  {
   "cell_type": "markdown",
   "id": "99583427-3456-4423-8c39-fcf7f67eae7c",
   "metadata": {},
   "source": [
    "##### To check for the outliers of the data, we should look for the interquartile range."
   ]
  },
  {
   "cell_type": "code",
   "execution_count": 109,
   "id": "80c4471d-b97b-43b6-86d7-a533f60d7106",
   "metadata": {},
   "outputs": [
    {
     "data": {
      "text/plain": [
       "'There are about 151 outliers in the release year of tracks.'"
      ]
     },
     "execution_count": 109,
     "metadata": {},
     "output_type": "execute_result"
    }
   ],
   "source": [
    "# Calculate first quartile (25th percentile)\n",
    "Q1ry = df_spotify['released_year'].quantile(0.25)\n",
    "\n",
    "# Calculate third quartile (75th percentile)\n",
    "Q3ry = df_spotify['released_year'].quantile(0.75)\n",
    "\n",
    "# Calculate Interquartile Range (IQR)\n",
    "IQRry = Q3ry - Q1ry\n",
    "\n",
    "# Identify outliers: values outside the range (Q1 - 1.5 * IQR) and (Q3 + 1.5 * IQR)\n",
    "outliers_ry = df_spotify[(df_spotify['released_year'] < Q1ry - 1.5 * IQRry) | (df_spotify['released_year'] > Q3ry + 1.5 * IQRry)]\n",
    "\n",
    "# Get the number of outliers\n",
    "ry_outliers_num = outliers_ry.shape[0]\n",
    "\n",
    "# Return the message about outliers\n",
    "outlier_message = f\"There are about {ry_outliers_num} outliers in the release year of tracks.\"\n",
    "\n",
    "# Optionally, display the outliers for further inspection\n",
    "outliers_ry.head()  # Show the first few rows of the outliers for inspection (optional)\n",
    "\n",
    "# Display the outlier message\n",
    "outlier_message\n"
   ]
  },
  {
   "cell_type": "code",
   "execution_count": 110,
   "id": "665d86b1-872a-410c-92e9-541d2acb8f34",
   "metadata": {},
   "outputs": [
    {
     "data": {
      "image/png": "[encoded data removed]",
      "text/plain": [
       "<Figure size 1500x500 with 1 Axes>"
      ]
     },
     "metadata": {},
     "output_type": "display_data"
    }
   ],
   "source": [
    "plt.figure(figsize=(15, 5))\n",
    "# To size the boxplots\n",
    "\n",
    "sns.boxplot(x=df_spotify['released_year'], fliersize=3)\n",
    "# Creates boxplot and resize the outlier data points\n",
    "\n",
    "plt.title(\"Track Release Year Boxplot\") \n",
    "# Sets title for the boxplot\n",
    "plt.xlabel(\"Track Release Year\")\n",
    "# Labels x-axis\n",
    "plt.show()"
   ]
  },
  {
   "cell_type": "code",
   "execution_count": 111,
   "id": "81062e47-fe0d-41ec-b469-42f3fb20a23e",
   "metadata": {},
   "outputs": [
    {
     "data": {
      "text/plain": [
       "Text(5.569444444444445, 0.5, 'Number of Tracks')"
      ]
     },
     "execution_count": 111,
     "metadata": {},
     "output_type": "execute_result"
    },
    {
     "data": {
      "image/png": "[encoded data removed]",
      "text/plain": [
       "<Figure size 500x500 with 1 Axes>"
      ]
     },
     "metadata": {},
     "output_type": "display_data"
    }
   ],
   "source": [
    "ac = sns.displot(df_spotify, x='artist_count', color='Blue', discrete=True).set(title = \"Distribution of the number of credited artists per track\")\n",
    "# To plot the distrbution of the released_year along with its distribution line, and each year being represented\n",
    "# To plot the distrbution of the released_year along with its distribution line, and each artist count being represented\n",
    "# also labels title\n",
    "\n",
    "sns.set_style(\"white\")\n",
    "\n",
    "ax = ac.ax\n",
    "ax.grid(True, axis=\"y\", color=\"gray\", alpha=0.5)\n",
    "# to place grids along the x_axis\n",
    "\n",
    "plt.xlabel('Number of Credited Artists')\n",
    "plt.ylabel('Number of Tracks')\n",
    "# labels x and y axes"
   ]
  },
  {
   "cell_type": "markdown",
   "id": "1d200b3c-ccc2-4fdd-ba9c-c32c8c296dc5",
   "metadata": {},
   "source": [
    "##### It appears that a single artist created the most streamed songs on Spotify in 2023. \n",
    "The likelihood of a song appearing on the list of the 2023 Spotify top songs decreases with the number of artists credited to it."
   ]
  },
  {
   "cell_type": "code",
   "execution_count": 113,
   "id": "33aa7493-ab40-464d-9fa0-5c54c85063f8",
   "metadata": {},
   "outputs": [
    {
     "data": {
      "text/plain": [
       "'There are about 27 outliers within the release year attributes of the tracks.'"
      ]
     },
     "execution_count": 113,
     "metadata": {},
     "output_type": "execute_result"
    }
   ],
   "source": [
    "Q1ac = df_spotify['artist_count'].quantile(0.25)\n",
    "Q3ac = df_spotify['artist_count'].quantile(0.75)\n",
    "IQRac = Q3ac - Q1ac\n",
    "\n",
    "# Equation for finding outliers within a given data\n",
    "outliers_ac = df_spotify[(df_spotify['artist_count'] < Q1ac - 1.5 * IQRac) | (df_spotify['artist_count'] > Q3ac + 1.5 * IQRac)]\n",
    "ac_outliers_num = outliers_ac.shape[0]\n",
    "f\"There are about {ac_outliers_num} outliers within the release year attributes of the tracks.\""
   ]
  },
  {
   "cell_type": "code",
   "execution_count": 114,
   "id": "875bc81d-e3a9-45a4-8180-6e601a34433e",
   "metadata": {},
   "outputs": [
    {
     "data": {
      "image/png": "[encoded data removed]",
      "text/plain": [
       "<Figure size 1500x500 with 1 Axes>"
      ]
     },
     "metadata": {},
     "output_type": "display_data"
    }
   ],
   "source": [
    "plt.figure(figsize=(15, 5))\n",
    "# To size the boxplots\n",
    "\n",
    "sns.boxplot(x=df_spotify['artist_count'], fliersize=3)\n",
    "# Creates boxplot and resize the outlier data points\n",
    "\n",
    "plt.title(\"Number of Credited Artist Per Track Boxplot\") \n",
    "# Sets title for the boxplot\n",
    "plt.xlabel(\"Track Release Year\")\n",
    "# Labels x-axis\n",
    "plt.show()"
   ]
  },
  {
   "cell_type": "markdown",
   "id": "7fa97e6e-4117-428b-b6d7-424c42229ea2",
   "metadata": {},
   "source": [
    "___"
   ]
  },
  {
   "cell_type": "markdown",
   "id": "27f8698f-9213-4c2a-9833-0a4e0ace629a",
   "metadata": {},
   "source": [
    "### Top Performers"
   ]
  },
  {
   "cell_type": "markdown",
   "id": "7849ad17-77f1-494c-a604-1471766915bd",
   "metadata": {},
   "source": [
    "##### Top 5 most streamed albums/songs"
   ]
  },
  {
   "cell_type": "code",
   "execution_count": 118,
   "id": "24778efb-bc03-43ce-b7f7-c09e188f12e0",
   "metadata": {},
   "outputs": [
    {
     "data": {
      "text/html": [
       "<div>\n",
       "<style scoped>\n",
       "    .dataframe tbody tr th:only-of-type {\n",
       "        vertical-align: middle;\n",
       "    }\n",
       "\n",
       "    .dataframe tbody tr th {\n",
       "        vertical-align: top;\n",
       "    }\n",
       "\n",
       "    .dataframe thead th {\n",
       "        text-align: right;\n",
       "    }\n",
       "</style>\n",
       "<table border=\"1\" class=\"dataframe\">\n",
       "  <thead>\n",
       "    <tr style=\"text-align: right;\">\n",
       "      <th></th>\n",
       "      <th>track_name</th>\n",
       "      <th>artist(s)_name</th>\n",
       "      <th>streams</th>\n",
       "    </tr>\n",
       "  </thead>\n",
       "  <tbody>\n",
       "    <tr>\n",
       "      <th>55</th>\n",
       "      <td>Blinding Lights</td>\n",
       "      <td>The Weeknd</td>\n",
       "      <td>3.703895e+09</td>\n",
       "    </tr>\n",
       "    <tr>\n",
       "      <th>179</th>\n",
       "      <td>Shape of You</td>\n",
       "      <td>Ed Sheeran</td>\n",
       "      <td>3.562544e+09</td>\n",
       "    </tr>\n",
       "    <tr>\n",
       "      <th>86</th>\n",
       "      <td>Someone You Loved</td>\n",
       "      <td>Lewis Capaldi</td>\n",
       "      <td>2.887242e+09</td>\n",
       "    </tr>\n",
       "    <tr>\n",
       "      <th>617</th>\n",
       "      <td>Dance Monkey</td>\n",
       "      <td>Tones and I</td>\n",
       "      <td>2.864792e+09</td>\n",
       "    </tr>\n",
       "    <tr>\n",
       "      <th>41</th>\n",
       "      <td>Sunflower - Spider-Man: Into the Spider-Verse</td>\n",
       "      <td>Post Malone, Swae Lee</td>\n",
       "      <td>2.808097e+09</td>\n",
       "    </tr>\n",
       "  </tbody>\n",
       "</table>\n",
       "</div>"
      ],
      "text/plain": [
       "                                        track_name         artist(s)_name  \\\n",
       "55                                 Blinding Lights             The Weeknd   \n",
       "179                                   Shape of You             Ed Sheeran   \n",
       "86                               Someone You Loved          Lewis Capaldi   \n",
       "617                                   Dance Monkey            Tones and I   \n",
       "41   Sunflower - Spider-Man: Into the Spider-Verse  Post Malone, Swae Lee   \n",
       "\n",
       "          streams  \n",
       "55   3.703895e+09  \n",
       "179  3.562544e+09  \n",
       "86   2.887242e+09  \n",
       "617  2.864792e+09  \n",
       "41   2.808097e+09  "
      ]
     },
     "execution_count": 118,
     "metadata": {},
     "output_type": "execute_result"
    }
   ],
   "source": [
    "df_spotify[['track_name', 'artist(s)_name','streams']].sort_values(by='streams', ascending=False).head()\n",
    "# it sorts the data from greatest to least streams\n",
    "# it locates and print the first 5 songs along with its track name and the number of streams"
   ]
  },
  {
   "cell_type": "code",
   "execution_count": 119,
   "id": "30a25e0e-0ce8-4191-becd-98722c933642",
   "metadata": {},
   "outputs": [
    {
     "data": {
      "text/plain": [
       "0         [Latto,  Jung Kook]\n",
       "1               [Myke Towers]\n",
       "2            [Olivia Rodrigo]\n",
       "3              [Taylor Swift]\n",
       "4                 [Bad Bunny]\n",
       "                ...          \n",
       "944            [Selena Gomez]\n",
       "945            [Taylor Swift]\n",
       "946     [Feid,  Paulo Londra]\n",
       "947    [Feid,  Sech,  Jhayco]\n",
       "948               [Burna Boy]\n",
       "Name: artist(s)_name, Length: 949, dtype: object"
      ]
     },
     "execution_count": 119,
     "metadata": {},
     "output_type": "execute_result"
    }
   ],
   "source": [
    "df_spotify['artist(s)_name'] = df_spotify['artist(s)_name'].str.split(',')\n",
    "df_spotify['artist(s)_name']\n",
    "# turns all the artists into a list and splits all of them with a column"
   ]
  },
  {
   "cell_type": "code",
   "execution_count": 120,
   "id": "a080783a-8d1a-433f-843e-9cdb4d470dcd",
   "metadata": {},
   "outputs": [
    {
     "data": {
      "text/html": [
       "<div>\n",
       "<style scoped>\n",
       "    .dataframe tbody tr th:only-of-type {\n",
       "        vertical-align: middle;\n",
       "    }\n",
       "\n",
       "    .dataframe tbody tr th {\n",
       "        vertical-align: top;\n",
       "    }\n",
       "\n",
       "    .dataframe thead th {\n",
       "        text-align: right;\n",
       "    }\n",
       "</style>\n",
       "<table border=\"1\" class=\"dataframe\">\n",
       "  <thead>\n",
       "    <tr style=\"text-align: right;\">\n",
       "      <th></th>\n",
       "      <th>track_name</th>\n",
       "      <th>artist(s)_name</th>\n",
       "      <th>artist_count</th>\n",
       "      <th>released_year</th>\n",
       "      <th>released_month</th>\n",
       "      <th>released_day</th>\n",
       "      <th>in_spotify_playlists</th>\n",
       "      <th>in_spotify_charts</th>\n",
       "      <th>streams</th>\n",
       "      <th>in_apple_playlists</th>\n",
       "      <th>...</th>\n",
       "      <th>bpm</th>\n",
       "      <th>key</th>\n",
       "      <th>mode</th>\n",
       "      <th>danceability_%</th>\n",
       "      <th>valence_%</th>\n",
       "      <th>energy_%</th>\n",
       "      <th>acousticness_%</th>\n",
       "      <th>instrumentalness_%</th>\n",
       "      <th>liveness_%</th>\n",
       "      <th>speechiness_%</th>\n",
       "    </tr>\n",
       "  </thead>\n",
       "  <tbody>\n",
       "    <tr>\n",
       "      <th>0</th>\n",
       "      <td>Seven (feat. Latto) (Explicit Ver.)</td>\n",
       "      <td>Latto</td>\n",
       "      <td>2</td>\n",
       "      <td>2023</td>\n",
       "      <td>7</td>\n",
       "      <td>14</td>\n",
       "      <td>553</td>\n",
       "      <td>147</td>\n",
       "      <td>141381703.0</td>\n",
       "      <td>43</td>\n",
       "      <td>...</td>\n",
       "      <td>125</td>\n",
       "      <td>B</td>\n",
       "      <td>Major</td>\n",
       "      <td>80</td>\n",
       "      <td>89</td>\n",
       "      <td>83</td>\n",
       "      <td>31</td>\n",
       "      <td>0</td>\n",
       "      <td>8</td>\n",
       "      <td>4</td>\n",
       "    </tr>\n",
       "    <tr>\n",
       "      <th>1</th>\n",
       "      <td>Seven (feat. Latto) (Explicit Ver.)</td>\n",
       "      <td>Jung Kook</td>\n",
       "      <td>2</td>\n",
       "      <td>2023</td>\n",
       "      <td>7</td>\n",
       "      <td>14</td>\n",
       "      <td>553</td>\n",
       "      <td>147</td>\n",
       "      <td>141381703.0</td>\n",
       "      <td>43</td>\n",
       "      <td>...</td>\n",
       "      <td>125</td>\n",
       "      <td>B</td>\n",
       "      <td>Major</td>\n",
       "      <td>80</td>\n",
       "      <td>89</td>\n",
       "      <td>83</td>\n",
       "      <td>31</td>\n",
       "      <td>0</td>\n",
       "      <td>8</td>\n",
       "      <td>4</td>\n",
       "    </tr>\n",
       "    <tr>\n",
       "      <th>2</th>\n",
       "      <td>LALA</td>\n",
       "      <td>Myke Towers</td>\n",
       "      <td>1</td>\n",
       "      <td>2023</td>\n",
       "      <td>3</td>\n",
       "      <td>23</td>\n",
       "      <td>1474</td>\n",
       "      <td>48</td>\n",
       "      <td>133716286.0</td>\n",
       "      <td>48</td>\n",
       "      <td>...</td>\n",
       "      <td>92</td>\n",
       "      <td>C#</td>\n",
       "      <td>Major</td>\n",
       "      <td>71</td>\n",
       "      <td>61</td>\n",
       "      <td>74</td>\n",
       "      <td>7</td>\n",
       "      <td>0</td>\n",
       "      <td>10</td>\n",
       "      <td>4</td>\n",
       "    </tr>\n",
       "    <tr>\n",
       "      <th>3</th>\n",
       "      <td>vampire</td>\n",
       "      <td>Olivia Rodrigo</td>\n",
       "      <td>1</td>\n",
       "      <td>2023</td>\n",
       "      <td>6</td>\n",
       "      <td>30</td>\n",
       "      <td>1397</td>\n",
       "      <td>113</td>\n",
       "      <td>140003974.0</td>\n",
       "      <td>94</td>\n",
       "      <td>...</td>\n",
       "      <td>138</td>\n",
       "      <td>F</td>\n",
       "      <td>Major</td>\n",
       "      <td>51</td>\n",
       "      <td>32</td>\n",
       "      <td>53</td>\n",
       "      <td>17</td>\n",
       "      <td>0</td>\n",
       "      <td>31</td>\n",
       "      <td>6</td>\n",
       "    </tr>\n",
       "    <tr>\n",
       "      <th>4</th>\n",
       "      <td>Cruel Summer</td>\n",
       "      <td>Taylor Swift</td>\n",
       "      <td>1</td>\n",
       "      <td>2019</td>\n",
       "      <td>8</td>\n",
       "      <td>23</td>\n",
       "      <td>7858</td>\n",
       "      <td>100</td>\n",
       "      <td>800840817.0</td>\n",
       "      <td>116</td>\n",
       "      <td>...</td>\n",
       "      <td>170</td>\n",
       "      <td>A</td>\n",
       "      <td>Major</td>\n",
       "      <td>55</td>\n",
       "      <td>58</td>\n",
       "      <td>72</td>\n",
       "      <td>11</td>\n",
       "      <td>0</td>\n",
       "      <td>11</td>\n",
       "      <td>15</td>\n",
       "    </tr>\n",
       "    <tr>\n",
       "      <th>...</th>\n",
       "      <td>...</td>\n",
       "      <td>...</td>\n",
       "      <td>...</td>\n",
       "      <td>...</td>\n",
       "      <td>...</td>\n",
       "      <td>...</td>\n",
       "      <td>...</td>\n",
       "      <td>...</td>\n",
       "      <td>...</td>\n",
       "      <td>...</td>\n",
       "      <td>...</td>\n",
       "      <td>...</td>\n",
       "      <td>...</td>\n",
       "      <td>...</td>\n",
       "      <td>...</td>\n",
       "      <td>...</td>\n",
       "      <td>...</td>\n",
       "      <td>...</td>\n",
       "      <td>...</td>\n",
       "      <td>...</td>\n",
       "      <td>...</td>\n",
       "    </tr>\n",
       "    <tr>\n",
       "      <th>1473</th>\n",
       "      <td>A Veces (feat. Feid)</td>\n",
       "      <td>Paulo Londra</td>\n",
       "      <td>2</td>\n",
       "      <td>2022</td>\n",
       "      <td>11</td>\n",
       "      <td>3</td>\n",
       "      <td>573</td>\n",
       "      <td>0</td>\n",
       "      <td>73513683.0</td>\n",
       "      <td>2</td>\n",
       "      <td>...</td>\n",
       "      <td>92</td>\n",
       "      <td>C#</td>\n",
       "      <td>Major</td>\n",
       "      <td>80</td>\n",
       "      <td>81</td>\n",
       "      <td>67</td>\n",
       "      <td>4</td>\n",
       "      <td>0</td>\n",
       "      <td>8</td>\n",
       "      <td>6</td>\n",
       "    </tr>\n",
       "    <tr>\n",
       "      <th>1474</th>\n",
       "      <td>En La De Ella</td>\n",
       "      <td>Feid</td>\n",
       "      <td>3</td>\n",
       "      <td>2022</td>\n",
       "      <td>10</td>\n",
       "      <td>20</td>\n",
       "      <td>1320</td>\n",
       "      <td>0</td>\n",
       "      <td>133895612.0</td>\n",
       "      <td>29</td>\n",
       "      <td>...</td>\n",
       "      <td>97</td>\n",
       "      <td>C#</td>\n",
       "      <td>Major</td>\n",
       "      <td>82</td>\n",
       "      <td>67</td>\n",
       "      <td>77</td>\n",
       "      <td>8</td>\n",
       "      <td>0</td>\n",
       "      <td>12</td>\n",
       "      <td>5</td>\n",
       "    </tr>\n",
       "    <tr>\n",
       "      <th>1475</th>\n",
       "      <td>En La De Ella</td>\n",
       "      <td>Sech</td>\n",
       "      <td>3</td>\n",
       "      <td>2022</td>\n",
       "      <td>10</td>\n",
       "      <td>20</td>\n",
       "      <td>1320</td>\n",
       "      <td>0</td>\n",
       "      <td>133895612.0</td>\n",
       "      <td>29</td>\n",
       "      <td>...</td>\n",
       "      <td>97</td>\n",
       "      <td>C#</td>\n",
       "      <td>Major</td>\n",
       "      <td>82</td>\n",
       "      <td>67</td>\n",
       "      <td>77</td>\n",
       "      <td>8</td>\n",
       "      <td>0</td>\n",
       "      <td>12</td>\n",
       "      <td>5</td>\n",
       "    </tr>\n",
       "    <tr>\n",
       "      <th>1476</th>\n",
       "      <td>En La De Ella</td>\n",
       "      <td>Jhayco</td>\n",
       "      <td>3</td>\n",
       "      <td>2022</td>\n",
       "      <td>10</td>\n",
       "      <td>20</td>\n",
       "      <td>1320</td>\n",
       "      <td>0</td>\n",
       "      <td>133895612.0</td>\n",
       "      <td>29</td>\n",
       "      <td>...</td>\n",
       "      <td>97</td>\n",
       "      <td>C#</td>\n",
       "      <td>Major</td>\n",
       "      <td>82</td>\n",
       "      <td>67</td>\n",
       "      <td>77</td>\n",
       "      <td>8</td>\n",
       "      <td>0</td>\n",
       "      <td>12</td>\n",
       "      <td>5</td>\n",
       "    </tr>\n",
       "    <tr>\n",
       "      <th>1477</th>\n",
       "      <td>Alone</td>\n",
       "      <td>Burna Boy</td>\n",
       "      <td>1</td>\n",
       "      <td>2022</td>\n",
       "      <td>11</td>\n",
       "      <td>4</td>\n",
       "      <td>782</td>\n",
       "      <td>2</td>\n",
       "      <td>96007391.0</td>\n",
       "      <td>27</td>\n",
       "      <td>...</td>\n",
       "      <td>90</td>\n",
       "      <td>E</td>\n",
       "      <td>Minor</td>\n",
       "      <td>61</td>\n",
       "      <td>32</td>\n",
       "      <td>67</td>\n",
       "      <td>15</td>\n",
       "      <td>0</td>\n",
       "      <td>11</td>\n",
       "      <td>5</td>\n",
       "    </tr>\n",
       "  </tbody>\n",
       "</table>\n",
       "<p>1478 rows × 24 columns</p>\n",
       "</div>"
      ],
      "text/plain": [
       "                               track_name  artist(s)_name  artist_count  \\\n",
       "0     Seven (feat. Latto) (Explicit Ver.)           Latto             2   \n",
       "1     Seven (feat. Latto) (Explicit Ver.)       Jung Kook             2   \n",
       "2                                    LALA     Myke Towers             1   \n",
       "3                                 vampire  Olivia Rodrigo             1   \n",
       "4                            Cruel Summer    Taylor Swift             1   \n",
       "...                                   ...             ...           ...   \n",
       "1473                 A Veces (feat. Feid)    Paulo Londra             2   \n",
       "1474                        En La De Ella            Feid             3   \n",
       "1475                        En La De Ella            Sech             3   \n",
       "1476                        En La De Ella          Jhayco             3   \n",
       "1477                                Alone       Burna Boy             1   \n",
       "\n",
       "      released_year  released_month  released_day  in_spotify_playlists  \\\n",
       "0              2023               7            14                   553   \n",
       "1              2023               7            14                   553   \n",
       "2              2023               3            23                  1474   \n",
       "3              2023               6            30                  1397   \n",
       "4              2019               8            23                  7858   \n",
       "...             ...             ...           ...                   ...   \n",
       "1473           2022              11             3                   573   \n",
       "1474           2022              10            20                  1320   \n",
       "1475           2022              10            20                  1320   \n",
       "1476           2022              10            20                  1320   \n",
       "1477           2022              11             4                   782   \n",
       "\n",
       "      in_spotify_charts      streams  in_apple_playlists  ...  bpm  key  \\\n",
       "0                   147  141381703.0                  43  ...  125    B   \n",
       "1                   147  141381703.0                  43  ...  125    B   \n",
       "2                    48  133716286.0                  48  ...   92   C#   \n",
       "3                   113  140003974.0                  94  ...  138    F   \n",
       "4                   100  800840817.0                 116  ...  170    A   \n",
       "...                 ...          ...                 ...  ...  ...  ...   \n",
       "1473                  0   73513683.0                   2  ...   92   C#   \n",
       "1474                  0  133895612.0                  29  ...   97   C#   \n",
       "1475                  0  133895612.0                  29  ...   97   C#   \n",
       "1476                  0  133895612.0                  29  ...   97   C#   \n",
       "1477                  2   96007391.0                  27  ...   90    E   \n",
       "\n",
       "       mode  danceability_%  valence_% energy_% acousticness_%  \\\n",
       "0     Major              80         89       83             31   \n",
       "1     Major              80         89       83             31   \n",
       "2     Major              71         61       74              7   \n",
       "3     Major              51         32       53             17   \n",
       "4     Major              55         58       72             11   \n",
       "...     ...             ...        ...      ...            ...   \n",
       "1473  Major              80         81       67              4   \n",
       "1474  Major              82         67       77              8   \n",
       "1475  Major              82         67       77              8   \n",
       "1476  Major              82         67       77              8   \n",
       "1477  Minor              61         32       67             15   \n",
       "\n",
       "      instrumentalness_%  liveness_%  speechiness_%  \n",
       "0                      0           8              4  \n",
       "1                      0           8              4  \n",
       "2                      0          10              4  \n",
       "3                      0          31              6  \n",
       "4                      0          11             15  \n",
       "...                  ...         ...            ...  \n",
       "1473                   0           8              6  \n",
       "1474                   0          12              5  \n",
       "1475                   0          12              5  \n",
       "1476                   0          12              5  \n",
       "1477                   0          11              5  \n",
       "\n",
       "[1478 rows x 24 columns]"
      ]
     },
     "execution_count": 120,
     "metadata": {},
     "output_type": "execute_result"
    }
   ],
   "source": [
    "df_spotify = df_spotify.explode('artist(s)_name').reset_index(drop=True)\n",
    "df_spotify['artist(s)_name'] = df_spotify['artist(s)_name'].str.strip()\n",
    "df_spotify\n",
    "# The .explode() makes it so that the list is counted as a row, we also reset index for cleaner analaysis\n",
    "# The list of the seperated names in now stored in the column of the artist(s)_name\n",
    "# The result can be seen below"
   ]
  },
  {
   "cell_type": "markdown",
   "id": "c547f073-83b9-485d-b914-3be061e7ef6c",
   "metadata": {},
   "source": [
    "##### Since each artist is now independent, the artist_count attribute is no longer valid; hence, we should remove that entire column from the remainder of the EDA. \n",
    "We might now replace the attribute of the artist(s)_name as simply artist_name in order to also have clearer data."
   ]
  },
  {
   "cell_type": "markdown",
   "id": "e8ea5de8-6502-461d-b0b4-e5ce7c7da13d",
   "metadata": {},
   "source": [
    "### Top 5 most played artist based on number of songs/albums"
   ]
  },
  {
   "cell_type": "code",
   "execution_count": 135,
   "id": "c8e7591e-4479-490b-bdd7-d3e2b0f5c1aa",
   "metadata": {},
   "outputs": [
    {
     "data": {
      "text/plain": [
       "artist(s)_name\n",
       "Bad Bunny         40\n",
       "Taylor Swift      38\n",
       "The Weeknd        36\n",
       "Kendrick Lamar    23\n",
       "SZA               23\n",
       "Name: count, dtype: int64"
      ]
     },
     "execution_count": 135,
     "metadata": {},
     "output_type": "execute_result"
    }
   ],
   "source": [
    "# Print first 5 \n",
    "df_spotify['artist(s)_name'].value_counts().head()"
   ]
  },
  {
   "cell_type": "markdown",
   "id": "57742992-fa31-46e8-a65e-dc2721ac9fa2",
   "metadata": {},
   "source": [
    "___"
   ]
  },
  {
   "cell_type": "markdown",
   "id": "7d25e3fb-14f1-4669-9b6b-2ddfb1b0719a",
   "metadata": {},
   "source": [
    "### Temporal Trends"
   ]
  },
  {
   "cell_type": "markdown",
   "id": "a0efbd04-4302-4c35-8452-059440461df9",
   "metadata": {},
   "source": [
    "##### Number and month of releases"
   ]
  },
  {
   "cell_type": "code",
   "execution_count": null,
   "id": "a933f205-45e4-44de-85ba-3b8335358425",
   "metadata": {},
   "outputs": [],
   "source": [
    "sns.displot(data=df_spotify, x='released_year', element='poly', fill=False, discrete=True, aspect = 3)\n",
    "# plots the tracks released vs the year it was released\n",
    "\n",
    "plt.xlabel('Months')\n",
    "plt.ylabel('Number of Tracks Released')\n",
    "plt.title('Number of Tracks Released Per Month')\n",
    "# labels the different parts of the plot such as the x-axis, y-axis, and the title"
   ]
  },
  {
   "cell_type": "markdown",
   "id": "91a9d188-df17-4303-b034-596dfb293a06",
   "metadata": {},
   "source": [
    "##### Releases over the month"
   ]
  },
  {
   "cell_type": "code",
   "execution_count": null,
   "id": "67610e02-2316-4e56-9cfd-05bd330d44d7",
   "metadata": {},
   "outputs": [],
   "source": [
    "sns.displot(data=df_spotify, x='released_month', element='poly', fill=False, discrete=True, aspect = 3)\n",
    "# plots the tracks released vs the months it was released on\n",
    "sns.set_style(\"whitegrid\", {'grid.linestyle': '--'})\n",
    "\n",
    "plt.xlabel('Months')\n",
    "plt.ylabel('Number of Tracks Released')\n",
    "plt.title('Number of Tracks Released Per Month')\n",
    "# labels the different parts of the plot such as the x-axis, y-axis, and the title\n",
    "\n",
    "\n",
    "plt.xticks(ticks=range(1, 13), labels=[calendar.month_name[i] for i in range(1, 13)])\n",
    "# uses calendar library to name the months for the x-axis\n",
    "\n",
    "plt.xlim(1, 12)\n",
    "# shows all the months\n",
    "plt.show()"
   ]
  },
  {
   "cell_type": "markdown",
   "id": "593369a3-6371-4a90-850c-97658dee9eaa",
   "metadata": {},
   "source": [
    "##### The months of January and May saw the highest number of releases, while August and September saw the fewest. \n",
    "It appears that there is no correlation between the most streamed songs on Spotify in 2023 and the month of release."
   ]
  },
  {
   "cell_type": "markdown",
   "id": "a1eb3a79-cd53-474d-8207-205b7d2ae146",
   "metadata": {},
   "source": [
    "### Genre and Music Characteristics"
   ]
  },
  {
   "cell_type": "code",
   "execution_count": null,
   "id": "7dbbda3d-20d1-40e5-956e-df8ae0057786",
   "metadata": {},
   "outputs": [],
   "source": [
    "#obtain correlations between streams and the given musical attributrs\n",
    "correlationstreams = df_spotify[['streams', 'bpm', 'danceability_%', 'energy_%']].corr()['streams'].drop('streams')\n",
    "\n",
    "print(\"Correlation of Streams with Musical Attributes: \\n\")\n",
    "print(correlationstreams)"
   ]
  },
  {
   "cell_type": "code",
   "execution_count": null,
   "id": "321d3feb-3543-40ed-a208-ba61a0213dbe",
   "metadata": {},
   "outputs": [],
   "source": [
    "#get correlation between danceability_% and energy_%\n",
    "danceability_energy_corr = df_spotify['danceability_%'].corr(df_spotify['energy_%'])\n",
    "print(f\"Correlation between Danceability % and Energy %: {danceability_energy_corr:.2f}\")\n",
    "\n",
    "#get correlation between valence_% and acousticness_%\n",
    "valence_acousticness_corr = df_spotify['valence_%'].corr(df_spotify['acousticness_%'])\n",
    "print(f\"Correlation between Valence % and Acousticness %: {valence_acousticness_corr:.2f}\")"
   ]
  },
  {
   "cell_type": "code",
   "execution_count": null,
   "id": "d72d99dd-9fe9-4e77-bb23-1ec6cdc2dc94",
   "metadata": {},
   "outputs": [],
   "source": [
    "#graph the correlation for the attributes\n",
    "attributes = df_spotify[['streams', 'bpm', 'danceability_%', 'energy_%', 'valence_%', 'acousticness_%']]\n",
    "correlation_matrix = attributes.corr()\n",
    "\n",
    "#create and plot using heatmap to observe the correlations \n",
    "plt.figure(figsize=(10, 8))\n",
    "sns.heatmap(correlation_matrix, annot=True, vmin = -1, vmax = 1, cmap='BuPu')\n",
    "plt.title(\"Correlation Heatmap of Streams and the different Musical Atrributes\")\n",
    "plt.show()"
   ]
  },
  {
   "cell_type": "markdown",
   "id": "266259e9-07c5-4a4a-9fea-a20f85c003a8",
   "metadata": {},
   "source": [
    "___"
   ]
  },
  {
   "cell_type": "markdown",
   "id": "a149782e-fb78-4bd3-ba92-8efeb4b4b582",
   "metadata": {},
   "source": [
    "### Platform Popularity"
   ]
  },
  {
   "cell_type": "code",
   "execution_count": null,
   "id": "daeca9a1-fcf1-4447-abcf-eda311ae1589",
   "metadata": {},
   "outputs": [],
   "source": [
    "track_platform_selected = ['in_spotify_playlists', 'in_spotify_charts', 'in_apple_playlists']\n",
    "\n",
    "# Sum the occurrences of tracks across the selected platforms\n",
    "platform_counts = df_spotify[track_platform_selected].sum()\n",
    "\n",
    "# Create a bar plot for the summed occurrences of tracks\n",
    "plt.figure(figsize=(10, 6))\n",
    "sns.barplot(x=platform_counts.index, y=platform_counts.values, palette='viridis')\n",
    "\n",
    "# Apply a logarithmic scale to the y-axis to deal with large range of occurrences\n",
    "plt.yscale('log')\n",
    "\n",
    "# Title and axis labels\n",
    "plt.title(\"Selected Platform Statistics vs. Number of Occurring Tracks\", fontsize=14)\n",
    "plt.xlabel(\"Selected Platform\", fontsize=12)\n",
    "plt.ylabel(\"Total Number of Occurrences (Log Scale)\", fontsize=12)\n",
    "\n",
    "# Display the plot\n",
    "plt.tight_layout()  # Adjust layout for better spacing\n",
    "plt.show()"
   ]
  },
  {
   "cell_type": "code",
   "execution_count": null,
   "id": "89e8a913-c30d-40dd-a868-72cd1f99b50f",
   "metadata": {},
   "outputs": [],
   "source": [
    "track_platform_selected = ['in_spotify_playlists', 'in_spotify_charts', 'in_apple_playlists']\n",
    "\n",
    "# Calculate the mean of occurrences for each platform\n",
    "platform_means = df_spotify[track_platform_selected].mean()\n",
    "\n",
    "# Create a bar plot for the mean occurrences of tracks\n",
    "plt.figure(figsize=(10, 6))\n",
    "sns.barplot(x=platform_means.index, y=platform_means.values, palette='viridis')\n",
    "\n",
    "# Apply a logarithmic scale to the y-axis to deal with large range of occurrences\n",
    "plt.yscale('log')\n",
    "\n",
    "# Title and axis labels\n",
    "plt.title(\"Selected Platform Statistics vs. Mean of Number of Occurring Tracks\", fontsize=14)\n",
    "plt.xlabel(\"Selected Platform\", fontsize=12)\n",
    "plt.ylabel(\"Mean Number of Occurrences (Log Scale)\", fontsize=12)\n",
    "\n",
    "# Display the plot\n",
    "plt.tight_layout()  # Adjust layout for better spacing\n",
    "plt.show()"
   ]
  },
  {
   "cell_type": "markdown",
   "id": "4f1f5c59-c44f-485d-b9f2-b795608b9f6c",
   "metadata": {},
   "source": [
    "##### It appears that a song is streamed more frequently the more times it appears in Spotify playlists. It appears that the number of streams of a song is not shown in the Spotify charts or Apple Playlist."
   ]
  },
  {
   "cell_type": "markdown",
   "id": "5d2ff597-383e-49a3-b1a3-1be1b7c4f6d7",
   "metadata": {},
   "source": [
    "##### It makes reasonable that Spotify playlists would show the most streamed songs because it is the most widely available and customisable app. Unlike Apple Music, it is likewise free to use and not restricted to any particular products."
   ]
  },
  {
   "cell_type": "code",
   "execution_count": null,
   "id": "076478f0-67dd-4347-9023-cd8c77c9b4ca",
   "metadata": {},
   "outputs": [],
   "source": [
    "# List of selected platform charts\n",
    "track_platform_charts = ['in_spotify_charts', 'in_apple_charts', 'in_deezer_charts', 'in_shazam_charts']\n",
    "\n",
    "# Calculate the mean of occurrences for each chart platform\n",
    "chart_means = df_spotify[track_platform_charts].mean()\n",
    "\n",
    "# Create a bar plot for the mean occurrences of tracks in platform charts\n",
    "plt.figure(figsize=(10, 6))  # Set the figure size\n",
    "sns.barplot(x=chart_means.index, y=chart_means.values, palette='viridis')\n",
    "\n",
    "# Set title and axis labels\n",
    "plt.title(\"Mean of Selected Platform Charts\", fontsize=14)\n",
    "plt.xlabel(\"Platform Charts\", fontsize=12)\n",
    "plt.ylabel(\"Mean Number of Occurrences\", fontsize=12)\n",
    "\n",
    "# Display the plot\n",
    "plt.tight_layout()  # Adjust layout for better spacing\n",
    "plt.show()"
   ]
  },
  {
   "cell_type": "markdown",
   "id": "889743c8-b465-4b1c-bf95-7d0f7d100244",
   "metadata": {},
   "source": [
    "##### The Shazam and Apple Music lists appear to be more representative of the Spotify tracks that have been streamed the most in 2023 than the Deezer and Spotify charts themselves"
   ]
  },
  {
   "cell_type": "markdown",
   "id": "12826ebc-ed95-4dae-8e73-87bbdbdcc4c1",
   "metadata": {},
   "source": [
    "### Comparison of number of tracks/songs in playlist of platforms"
   ]
  },
  {
   "cell_type": "code",
   "execution_count": null,
   "id": "e63aa17e-c561-461b-b040-81aabe85ff48",
   "metadata": {},
   "outputs": [],
   "source": [
    "# List of selected platform playlists\n",
    "track_platform_playlists = ['in_spotify_playlists', 'in_apple_playlists', 'in_deezer_playlists']\n",
    "\n",
    "# Calculate the total occurrences of tracks for each platform\n",
    "platform_playlist_totals = df_spotify[track_platform_playlists].sum()\n",
    "\n",
    "# Create a bar plot for the total occurrences of tracks in platform playlists\n",
    "plt.figure(figsize=(10, 6))  # Set the figure size\n",
    "sns.barplot(x=platform_playlist_totals.index, y=platform_playlist_totals.values, palette='viridis')\n",
    "\n",
    "# Set title and axis labels\n",
    "plt.title(\"Playlists vs Total Number of Occurring Tracks\", fontsize=14)\n",
    "plt.xlabel(\"Platform Playlists\", fontsize=12)\n",
    "plt.ylabel(\"Number of Occurring Tracks (in Millions)\", fontsize=12)\n",
    "\n",
    "# Display the plot\n",
    "plt.tight_layout()  # Adjust layout for better spacing\n",
    "plt.show()"
   ]
  },
  {
   "cell_type": "code",
   "execution_count": null,
   "id": "a7483243-39d8-4e48-a224-b6be00e1d6f9",
   "metadata": {},
   "outputs": [],
   "source": [
    "# List of selected platform playlists\n",
    "track_platform_playlists = ['in_spotify_playlists', 'in_apple_playlists', 'in_deezer_playlists']\n",
    "\n",
    "# Calculate the mean occurrences for each platform\n",
    "platform_playlist_means = df_spotify[track_platform_playlists].mean()\n",
    "\n",
    "# If you want to display the values in millions (optional), divide by 1,000,000\n",
    "platform_playlist_means /= 1_000_000  # Convert to millions\n",
    "\n",
    "# Create a bar plot for the mean occurrences of tracks in platform playlists\n",
    "plt.figure(figsize=(10, 6))  # Set the figure size\n",
    "sns.barplot(x=platform_playlist_means.index, y=platform_playlist_means.values, palette='viridis')\n",
    "\n",
    "# Set title and axis labels\n",
    "plt.title(\"Playlists vs Number of Tracks (Mean)\", fontsize=14)\n",
    "plt.xlabel(\"Platform Playlists\", fontsize=12)\n",
    "plt.ylabel(\"Mean Number of Occurring Tracks (in Millions)\", fontsize=12)\n",
    "\n",
    "# Display the plot\n",
    "plt.tight_layout()  # Adjust layout for better spacing\n",
    "plt.show()"
   ]
  },
  {
   "cell_type": "markdown",
   "id": "b185bfef-cfc8-4dff-91d9-1658cf78aa5f",
   "metadata": {},
   "source": [
    "##### Spotify playlists continue to be the most significant predictor of track streams across other platforms' playlists.\r"
   ]
  },
  {
   "cell_type": "markdown",
   "id": "80114b2f-05fd-44ff-b67e-0f222d6886fd",
   "metadata": {},
   "source": [
    "___"
   ]
  },
  {
   "cell_type": "markdown",
   "id": "dc3c9201-a531-46e3-a9de-214f73f6729a",
   "metadata": {},
   "source": [
    "### Advanced Analysis"
   ]
  },
  {
   "cell_type": "code",
   "execution_count": null,
   "id": "8693208f-f489-4f6c-a0df-23b3b235b7bf",
   "metadata": {},
   "outputs": [],
   "source": [
    "# Grouping by 'key' and counting the number of tracks per key\n",
    "df_key_counts = pd.DataFrame(df_spotify.groupby(\"key\").size())\n",
    "\n",
    "# Sort by the 'key' alphabetically (or by number of tracks if preferred)\n",
    "df_key_counts = df_key_counts.sort_values(by=0, ascending=False).reset_index()\n",
    "\n",
    "# Renaming the second column to 'number_of_tracks'\n",
    "df_key_counts = df_key_counts.rename(columns={0: 'number_of_tracks'})\n",
    "\n",
    "# Filter out 'Missing' and NaN keys\n",
    "df_key_counts = df_key_counts[df_key_counts['key'] != 'Missing']\n",
    "df_key_counts = df_key_counts[df_key_counts['key'].notna()]\n",
    "\n",
    "# Display the cleaned and sorted DataFrame\n",
    "df_key_counts"
   ]
  },
  {
   "cell_type": "code",
   "execution_count": null,
   "id": "269c8277-d1af-4067-8c23-16f91dec38c4",
   "metadata": {},
   "outputs": [],
   "source": [
    "# Create the barplot\n",
    "plt.figure(figsize=(12, 6))  # Set the figure size for better readability\n",
    "sns.barplot(x='key', y='number_of_tracks', data=df_key_counts, palette='Set2')\n",
    "\n",
    "# Add title and axis labels\n",
    "plt.title(\"Key Count Barplot\", fontsize=16)\n",
    "plt.xlabel(\"Keys\", fontsize=12)\n",
    "plt.ylabel(\"Number of Tracks\", fontsize=12)\n",
    "\n",
    "# Display the plot\n",
    "plt.tight_layout()\n",
    "plt.show()\n"
   ]
  },
  {
   "cell_type": "markdown",
   "id": "4ed32ec3-9b1a-439f-870d-65265098dd2d",
   "metadata": {},
   "source": [
    "##### At 195 songs, C Sharp is the most common key. G is next at 155 songs, while both F and G Sharp are not far behind at 134 songs each.|"
   ]
  },
  {
   "cell_type": "markdown",
   "id": "9575eaa7-2f52-41e9-89ed-03198a2dceea",
   "metadata": {},
   "source": [
    "### Minor vs Major"
   ]
  },
  {
   "cell_type": "code",
   "execution_count": null,
   "id": "fb15efc5-4201-424a-9b33-634959c9345d",
   "metadata": {},
   "outputs": [],
   "source": [
    "# Group by 'mode' and count the number of tracks per mode\n",
    "df_mode_counts = pd.DataFrame(df_spotify.groupby(\"mode\").size())\n",
    "\n",
    "# Sort the DataFrame by the number of tracks in descending order\n",
    "df_mode_counts = df_mode_counts.sort_values(by=0, ascending=False).reset_index()\n",
    "\n",
    "# Rename the second column to 'number_of_tracks'\n",
    "df_mode_counts = df_mode_counts.rename(columns={0: 'number_of_tracks'})\n",
    "\n",
    "# Optionally, filter out missing values or any invalid modes if needed\n",
    "df_mode_counts = df_mode_counts[df_mode_counts['mode'].notna()]\n",
    "\n",
    "# Display the resulting DataFrame\n",
    "df_mode_counts\n"
   ]
  },
  {
   "cell_type": "code",
   "execution_count": null,
   "id": "d3d96545-715d-4735-9a35-a0d2321f4e18",
   "metadata": {},
   "outputs": [],
   "source": [
    "sns.barplot(df_mode_counts, x = 'mode', y = 'number_of_tracks', palette='Set2')\n",
    "# Creates mode vs. number of tracks barplot and colors it\n",
    "\n",
    "plt.title(\"Mode vs. Total Tracks Barplot\")\n",
    "plt.xlabel(\"Mode\")\n",
    "plt.ylabel(\"Number of Tracks\")\n",
    "# Labels the plot's title, x-title, and y-title"
   ]
  },
  {
   "cell_type": "code",
   "execution_count": null,
   "id": "f9bef45a-ee1f-44e6-ba69-eebf7e219ad8",
   "metadata": {},
   "outputs": [],
   "source": [
    "# Define the platform columns that represent the presence of the artist in playlists\n",
    "platform_playlists = ['in_spotify_playlists', 'in_apple_playlists', 'in_deezer_playlists']\n",
    "\n",
    "# Group by artist name and sum the occurrences in playlists across platforms\n",
    "df_artist_playlists = df_spotify.groupby('artist_name')[platform_playlists].sum()\n",
    "\n",
    "# Create a total column by summing across the selected platforms for sorting purposes\n",
    "df_artist_playlists['total_occurrences'] = df_artist_playlists[platform_playlists].sum(axis=1)\n",
    "\n",
    "# Sort by the total occurrences in playlists across all platforms from greatest to least\n",
    "df_artist_playlists = df_artist_playlists.sort_values(by='total_occurrences', ascending=False).reset_index()\n",
    "\n",
    "# Select the relevant columns to display: artist name and occurrences across platforms\n",
    "df_artist_playlists[['artist_name', 'in_spotify_playlists', 'in_apple_playlists', 'in_deezer_playlists', 'total_occurrences']].head()"
   ]
  },
  {
   "cell_type": "code",
   "execution_count": null,
   "id": "41d9a5f3-e0e0-432f-ab01-926172f5b0bd",
   "metadata": {},
   "outputs": [],
   "source": [
    "# Create subplots for 3 bar plots (Spotify, Apple Music, Deezer)\n",
    "fig, axes = plt.subplots(ncols=3, figsize=(20, 6))\n",
    "\n",
    "# Sort the DataFrame by 'in_spotify_playlists' and plot top 5 artists\n",
    "sns.barplot(data=df_artist_playlists.sort_values('in_spotify_playlists', ascending=False).head(5), \n",
    "            x='artist_name', y='in_spotify_playlists', palette='Set2', ax=axes[0])\n",
    "axes[0].set(title='Artist vs. Occurrence in Spotify Playlists',\n",
    "            xlabel='Top Occurring Artists', ylabel='Number of Occurrences')\n",
    "\n",
    "# Sort the DataFrame by 'in_apple_playlists' and plot top 5 artists\n",
    "sns.barplot(data=df_artist_playlists.sort_values('in_apple_playlists', ascending=False).head(5),\n",
    "            x='artist_name', y='in_apple_playlists', palette='Set2', ax=axes[1])\n",
    "axes[1].set(title='Artist vs. Occurrence in Apple Music Playlists',\n",
    "            xlabel='Top Occurring Artists', ylabel='Number of Occurrences')\n",
    "\n",
    "# Sort the DataFrame by 'in_deezer_playlists' and plot top 5 artists\n",
    "sns.barplot(data=df_artist_playlists.sort_values('in_deezer_playlists', ascending=False).head(5),\n",
    "            x='artist_name', y='in_deezer_playlists', palette='Set2', ax=axes[2])\n",
    "axes[2].set(title='Artist vs. Occurrence in Deezer Playlists',\n",
    "            xlabel='Top Occurring Artists', ylabel='Number of Occurrences')\n",
    "\n",
    "# Adjust the layout to prevent overlapping text\n",
    "plt.tight_layout()\n",
    "\n",
    "# Show the plots\n",
    "plt.show()\n"
   ]
  },
  {
   "cell_type": "code",
   "execution_count": null,
   "id": "61664509-8038-492a-a88c-05a17363df2f",
   "metadata": {},
   "outputs": [],
   "source": [
    "df_artist_playlists['total_playlists'] = df_artist_playlists['in_spotify_playlists'] + df_artist_playlists['in_apple_playlists'] + df_artist_playlists['in_deezer_playlists']"
   ]
  },
  {
   "cell_type": "code",
   "execution_count": null,
   "id": "481de3f0-1140-4d8e-97fd-130e21c8b3f2",
   "metadata": {},
   "outputs": [],
   "source": [
    "df_total_playlists = df_artist_playlists[['artist_name', 'total_playlists']].sort_values('total_playlists', ascending=False)\n"
   ]
  },
  {
   "cell_type": "code",
   "execution_count": null,
   "id": "c9de5850-682d-4981-a670-ec2583e9b9e2",
   "metadata": {},
   "outputs": [],
   "source": [
    "df_total_playlists.reset_index(drop=True, inplace=True)\n"
   ]
  },
  {
   "cell_type": "code",
   "execution_count": null,
   "id": "01ae4a58-517d-4b1b-b049-ec004584a549",
   "metadata": {},
   "outputs": [],
   "source": [
    "df_total_playlists.head(10)\n"
   ]
  },
  {
   "cell_type": "code",
   "execution_count": null,
   "id": "b50364e4-d6fc-417c-abf5-89cbdedb8c5e",
   "metadata": {},
   "outputs": [],
   "source": [
    "# Create a barplot for the top 10 artists based on total playlists\n",
    "plt.figure(figsize=(12, 6))\n",
    "sns.barplot(x='artist_name', y='total_playlists', data=df_total_playlists.head(10), palette='Set2')\n",
    "\n",
    "# Add title and labels\n",
    "plt.title(\"Top 10 Artists by Total Playlist Occurrences Across Platforms\", fontsize=16)\n",
    "plt.xlabel(\"Artist Name\", fontsize=12)\n",
    "plt.ylabel(\"Total Playlist Occurrences\", fontsize=12)\n",
    "\n",
    "# Rotate x-axis labels for better readability\n",
    "plt.xticks(rotation=45)\n",
    "\n",
    "# Adjust layout to prevent label overlap\n",
    "plt.tight_layout()\n",
    "\n",
    "# Show the plot\n",
    "plt.show()"
   ]
  },
  {
   "cell_type": "markdown",
   "id": "9c2d5634-04c4-4230-b9d3-1da8b6df8ab7",
   "metadata": {},
   "source": [
    "### Summary of statistics in the given dataset"
   ]
  },
  {
   "cell_type": "code",
   "execution_count": null,
   "id": "87bee8f5-8161-44a4-abe8-35da4cf69cba",
   "metadata": {},
   "outputs": [],
   "source": [
    "summary_statistics = df_spotify.describe()\n",
    "summary_statistics"
   ]
  }
 ],
 "metadata": {
  "kernelspec": {
   "display_name": "Python 3 (ipykernel)",
   "language": "python",
   "name": "python3"
  },
  "language_info": {
   "codemirror_mode": {
    "name": "ipython",
    "version": 3
   },
   "file_extension": ".py",
   "mimetype": "text/x-python",
   "name": "python",
   "nbconvert_exporter": "python",
   "pygments_lexer": "ipython3",
   "version": "3.12.4"
  }
 },
 "nbformat": 4,
 "nbformat_minor": 5
}
